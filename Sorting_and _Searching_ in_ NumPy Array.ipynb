{
 "cells": [
  {
   "cell_type": "code",
   "execution_count": 2,
   "id": "1711198b",
   "metadata": {},
   "outputs": [],
   "source": [
    "import numpy as np"
   ]
  },
  {
   "cell_type": "markdown",
   "id": "6d4ea44c",
   "metadata": {},
   "source": [
    "# Searching in a NumPy array"
   ]
  },
  {
   "cell_type": "markdown",
   "id": "dd1dbee4",
   "metadata": {},
   "source": [
    "1. numpy.where:() It returns the indices of elements in an input array where the given condition is satisfied."
   ]
  },
  {
   "cell_type": "code",
   "execution_count": 5,
   "id": "6a01b4d1",
   "metadata": {},
   "outputs": [
    {
     "data": {
      "text/plain": [
       "(array([6], dtype=int64),)"
      ]
     },
     "execution_count": 5,
     "metadata": {},
     "output_type": "execute_result"
    }
   ],
   "source": [
    "arr = np.array([10, 32, 30, 50, 20, 82, 91, 45]) \n",
    "i = np.where(arr == 91)\n",
    "i"
   ]
  },
  {
   "cell_type": "markdown",
   "id": "840b0112",
   "metadata": {},
   "source": [
    "# NumPy Array Sorting | How to sort NumPy Array"
   ]
  },
  {
   "cell_type": "code",
   "execution_count": 6,
   "id": "e2ac232f",
   "metadata": {},
   "outputs": [
    {
     "name": "stdout",
     "output_type": "stream",
     "text": [
      "Array before sorting [12 15 10  1]\n",
      "Array after sorting [ 1 10 12 15]\n"
     ]
    }
   ],
   "source": [
    "a = np.array([12, 15, 10, 1]) \n",
    "print(\"Array before sorting\",a) \n",
    "a.sort() \n",
    "print(\"Array after sorting\",a) \n"
   ]
  },
  {
   "cell_type": "markdown",
   "id": "299facd2",
   "metadata": {},
   "source": [
    "# Using argsort()"
   ]
  },
  {
   "cell_type": "markdown",
   "id": "3a3b1177",
   "metadata": {},
   "source": [
    "It returns an array of indices that would sort the original array in ascending order."
   ]
  },
  {
   "cell_type": "code",
   "execution_count": 7,
   "id": "98605cda",
   "metadata": {},
   "outputs": [
    {
     "data": {
      "text/plain": [
       "array([2, 1, 5, 4, 6, 3, 0], dtype=int64)"
      ]
     },
     "execution_count": 7,
     "metadata": {},
     "output_type": "execute_result"
    }
   ],
   "source": [
    "a = np.array([9, 3, 1, 7, 4, 3, 6])\n",
    "np.argsort(a)"
   ]
  },
  {
   "cell_type": "markdown",
   "id": "b9534d04",
   "metadata": {},
   "source": [
    "# Numpy | Sorting, Searching and Counting"
   ]
  },
  {
   "cell_type": "markdown",
   "id": "35a269e8",
   "metadata": {},
   "source": [
    "numpy.sort() : This function returns a sorted copy of an array."
   ]
  },
  {
   "cell_type": "code",
   "execution_count": 8,
   "id": "5696de45",
   "metadata": {},
   "outputs": [
    {
     "name": "stdout",
     "output_type": "stream",
     "text": [
      "Along first axis : \n",
      " [[10  1]\n",
      " [12 15]]\n"
     ]
    }
   ],
   "source": [
    "a = np.array([[12, 15], [10, 1]])\n",
    "arr1 = np.sort(a, axis = 0)        \n",
    "print (\"Along first axis : \\n\", arr1) "
   ]
  },
  {
   "cell_type": "markdown",
   "id": "6ff5868c",
   "metadata": {},
   "source": [
    "# numpy.nanargmax() : This function returns indices of the max element of the array in a particular axis ignoring NaNs."
   ]
  },
  {
   "cell_type": "code",
   "execution_count": 13,
   "id": "51a1617a",
   "metadata": {},
   "outputs": [
    {
     "data": {
      "text/plain": [
       "array([ 1,  2,  3,  4,  5,  6,  7,  8,  9, 10])"
      ]
     },
     "execution_count": 13,
     "metadata": {},
     "output_type": "execute_result"
    }
   ],
   "source": [
    "array = np.arange(1,11)\n",
    "array"
   ]
  },
  {
   "cell_type": "code",
   "execution_count": 14,
   "id": "2258abbc",
   "metadata": {},
   "outputs": [
    {
     "data": {
      "text/plain": [
       "9"
      ]
     },
     "execution_count": 14,
     "metadata": {},
     "output_type": "execute_result"
    }
   ],
   "source": [
    "np.nanargmax(array)\n",
    "#returns the indices"
   ]
  },
  {
   "cell_type": "markdown",
   "id": "ec36da0b",
   "metadata": {},
   "source": [
    "numpy.argmin() : This function returns the indices of the minimum values along an axis."
   ]
  },
  {
   "cell_type": "code",
   "execution_count": 15,
   "id": "6958d3bc",
   "metadata": {},
   "outputs": [
    {
     "data": {
      "text/plain": [
       "0"
      ]
     },
     "execution_count": 15,
     "metadata": {},
     "output_type": "execute_result"
    }
   ],
   "source": [
    "np.argmin(array)"
   ]
  },
  {
   "cell_type": "markdown",
   "id": "788c08d6",
   "metadata": {},
   "source": [
    "numpy.count_nonzero() : Counts the number of non-zero values in the array ."
   ]
  },
  {
   "cell_type": "code",
   "execution_count": 16,
   "id": "37045233",
   "metadata": {},
   "outputs": [
    {
     "data": {
      "text/plain": [
       "10"
      ]
     },
     "execution_count": 16,
     "metadata": {},
     "output_type": "execute_result"
    }
   ],
   "source": [
    "np.count_nonzero(array)"
   ]
  },
  {
   "cell_type": "markdown",
   "id": "3ed954d3",
   "metadata": {},
   "source": [
    "numpy.count_nonzero() : Counts the number of non-zero values in the array ."
   ]
  },
  {
   "cell_type": "markdown",
   "id": "d1beaf9c",
   "metadata": {},
   "source": [
    "With the help of matrix.sort() method, we are able to sort the values in a matrix by using the same method."
   ]
  },
  {
   "cell_type": "code",
   "execution_count": 22,
   "id": "ff58c435",
   "metadata": {},
   "outputs": [
    {
     "data": {
      "text/plain": [
       "matrix([[24, 15,  5],\n",
       "        [61, 27, 83]])"
      ]
     },
     "execution_count": 22,
     "metadata": {},
     "output_type": "execute_result"
    }
   ],
   "source": [
    "mat = np.matrix('[24,15,5];[61,27,83]')\n",
    "mat"
   ]
  },
  {
   "cell_type": "code",
   "execution_count": 23,
   "id": "7939c874",
   "metadata": {},
   "outputs": [],
   "source": [
    "mat.sort()"
   ]
  },
  {
   "cell_type": "code",
   "execution_count": 24,
   "id": "ebc711f1",
   "metadata": {},
   "outputs": [
    {
     "name": "stdout",
     "output_type": "stream",
     "text": [
      "[[ 5 15 24]\n",
      " [27 61 83]]\n"
     ]
    }
   ],
   "source": [
    "print(mat)"
   ]
  },
  {
   "cell_type": "markdown",
   "id": "69ec7823",
   "metadata": {},
   "source": [
    "# Python | Numpy matrix.argsort()"
   ]
  },
  {
   "cell_type": "markdown",
   "id": "cb6bd815",
   "metadata": {},
   "source": [
    "With the help of Numpy matrix.argmax() method, we are able to find the sort the elements in the given matrix having one or more dimension and it would return the index value of sorted elements."
   ]
  },
  {
   "cell_type": "code",
   "execution_count": 26,
   "id": "31decf77",
   "metadata": {},
   "outputs": [
    {
     "data": {
      "text/plain": [
       "matrix([[3, 1, 0, 2]], dtype=int64)"
      ]
     },
     "execution_count": 26,
     "metadata": {},
     "output_type": "execute_result"
    }
   ],
   "source": [
    "# make a matrix with numpy \n",
    "gfg = np.matrix('[1, -2, 3, -4]') \n",
    "           \n",
    "# applying matrix.argsort() method \n",
    "geeks = gfg.argsort() \n",
    "geeks"
   ]
  },
  {
   "cell_type": "markdown",
   "id": "0df5f170",
   "metadata": {},
   "source": [
    "# NumPy ufuncs | Universal functions"
   ]
  },
  {
   "cell_type": "code",
   "execution_count": null,
   "id": "e8b81536",
   "metadata": {},
   "outputs": [],
   "source": []
  }
 ],
 "metadata": {
  "kernelspec": {
   "display_name": "Python 3 (ipykernel)",
   "language": "python",
   "name": "python3"
  },
  "language_info": {
   "codemirror_mode": {
    "name": "ipython",
    "version": 3
   },
   "file_extension": ".py",
   "mimetype": "text/x-python",
   "name": "python",
   "nbconvert_exporter": "python",
   "pygments_lexer": "ipython3",
   "version": "3.11.5"
  }
 },
 "nbformat": 4,
 "nbformat_minor": 5
}
