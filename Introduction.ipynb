{
 "cells": [
  {
   "cell_type": "markdown",
   "id": "91f7feff",
   "metadata": {},
   "source": [
    "# NumPy – Python Library"
   ]
  },
  {
   "cell_type": "markdown",
   "id": "a6739b66",
   "metadata": {},
   "source": [
    "NumPy is a short form for Numerical Python"
   ]
  },
  {
   "cell_type": "markdown",
   "id": "6dc1a302",
   "metadata": {},
   "source": [
    "Why Numpy ?\n",
    "NumPy revolutionized the way we handle numerical data in Python. It is created to address the limitations of traditional Python lists when it comes to numerical computing. It is developed by Travis Olliphant in 2005."
   ]
  },
  {
   "cell_type": "markdown",
   "id": "0aa2075c",
   "metadata": {},
   "source": [
    "What is NumPy? \n",
    "NumPy is a general-purpose array-processing package. It provides a high-performance multidimensional array object and tools for working with these arrays. It is the fundamental package for scientific computing with Python. It is open-source software."
   ]
  },
  {
   "cell_type": "code",
   "execution_count": 3,
   "id": "1e9cf38b",
   "metadata": {},
   "outputs": [],
   "source": [
    "import numpy as np"
   ]
  },
  {
   "cell_type": "markdown",
   "id": "f655feb3",
   "metadata": {},
   "source": [
    "# Arrays in NumPy"
   ]
  },
  {
   "cell_type": "markdown",
   "id": "85331b52",
   "metadata": {},
   "source": [
    "In NumPy, dimensions are called axes. The number of axes is rank.\n",
    "NumPy&#x2019s array class is called ndarray. It is also known by the alias array."
   ]
  },
  {
   "cell_type": "code",
   "execution_count": 10,
   "id": "2f7f6ec9",
   "metadata": {},
   "outputs": [
    {
     "name": "stdout",
     "output_type": "stream",
     "text": [
      "[[1 2 3]\n",
      " [4 5 6]]\n",
      "The numpy array is of type <class 'numpy.ndarray'>\n",
      "The size of the numpy array: 6\n",
      "The shape of the numpy array (2, 3)\n",
      "The dimension:  2\n",
      "The datatype of elements that this array stores: int32\n"
     ]
    }
   ],
   "source": [
    "arr = np.array([[1,2,3],\n",
    "                [4,5,6]])\n",
    "\n",
    "print(arr)\n",
    "print(\"The numpy array is of type\",type(arr))\n",
    "print(\"The size of the numpy array:\",arr.size)\n",
    "print(\"The shape of the numpy array\",arr.shape)\n",
    "print(\"The dimension: \",arr.ndim)\n",
    "print(\"The datatype of elements that this array stores:\",arr.dtype)"
   ]
  },
  {
   "cell_type": "markdown",
   "id": "5a0b789e",
   "metadata": {},
   "source": [
    "1. You can create an array from a regular Python list or tuple using the array() function. The type of the resulting array is deduced from the type of the elements in the sequences. Let’s see this implementation:"
   ]
  },
  {
   "cell_type": "code",
   "execution_count": 22,
   "id": "5b65a190",
   "metadata": {},
   "outputs": [
    {
     "name": "stdout",
     "output_type": "stream",
     "text": [
      "Array created using passed list:  [[1. 2. 3.]\n",
      " [4. 5. 6.]]\n",
      "Array created using Tuple:  [1 2 3]\n"
     ]
    }
   ],
   "source": [
    "#list\n",
    "arr1 = np.array([[1,2,3],\n",
    "                 [4,5,6]],dtype='float')\n",
    "print(\"Array created using passed list: \",arr1)\n",
    "\n",
    "arr2 = np.array((1,2,3))\n",
    "print(\"Array created using Tuple: \",arr2)"
   ]
  },
  {
   "cell_type": "markdown",
   "id": "6f2cd0dd",
   "metadata": {},
   "source": [
    " Often, the element is of an array is originally unknown, but its size is known. Hence, NumPy offers several functions to create arrays with initial placeholder content. These minimize the necessity of growing arrays, an expensive operation. For example: np.zeros, np.ones, np.full, np.empty, etc."
   ]
  },
  {
   "cell_type": "code",
   "execution_count": 33,
   "id": "1008caf4",
   "metadata": {},
   "outputs": [
    {
     "name": "stdout",
     "output_type": "stream",
     "text": [
      "Array with all elements as Zeros:\n",
      " [[0. 0. 0.]\n",
      " [0. 0. 0.]]\n",
      "Array with all elements as ones:\n",
      " [[1. 1. 1.]\n",
      " [1. 1. 1.]]\n",
      "Array with all elements as 7 and of type complex\n",
      " [[7.+0.j 7.+0.j 7.+0.j]\n",
      " [7.+0.j 7.+0.j 7.+0.j]\n",
      " [7.+0.j 7.+0.j 7.+0.j]]\n",
      "Array with random elements: \n",
      " [[0.88893316 0.64531909 0.5394297 ]\n",
      " [0.62861598 0.45683248 0.59664391]]\n"
     ]
    }
   ],
   "source": [
    "a1 = np.zeros((2,3))\n",
    "print(\"Array with all elements as Zeros:\\n\",a1)\n",
    "\n",
    "a2 = np.ones((2,3))\n",
    "print(\"Array with all elements as ones:\\n\",a2)\n",
    "\n",
    "a3 = np.full((3,3),7,dtype='complex')\n",
    "print(\"Array with all elements as 7 and of type complex\\n\",a3)\n",
    "\n",
    "a4 = np.random.random((2,3))\n",
    "print(\"Array with random elements: \\n\",a4)"
   ]
  },
  {
   "cell_type": "markdown",
   "id": "f263c6f1",
   "metadata": {},
   "source": [
    "3. arange: This function returns evenly spaced values within a given interval. Step size is specified."
   ]
  },
  {
   "cell_type": "code",
   "execution_count": 37,
   "id": "825bb78f",
   "metadata": {},
   "outputs": [
    {
     "name": "stdout",
     "output_type": "stream",
     "text": [
      "The arrange of values:  [ 0  5 10 15 20 25 30 35 40 45]\n"
     ]
    }
   ],
   "source": [
    "print(\"The sequential of values: \",np.arange(0,50,5))\n",
    "#start,stop,step"
   ]
  },
  {
   "cell_type": "markdown",
   "id": "7e4e9ffe",
   "metadata": {},
   "source": [
    "linspace: It returns evenly spaced values within a given interval."
   ]
  },
  {
   "cell_type": "code",
   "execution_count": 39,
   "id": "c7ec44bd",
   "metadata": {},
   "outputs": [
    {
     "name": "stdout",
     "output_type": "stream",
     "text": [
      "The array of 4 values betwenn 0 to 10 [ 0.          3.33333333  6.66666667 10.        ]\n"
     ]
    }
   ],
   "source": [
    "g = np.linspace(0,10,4)\n",
    "print(\"The array of 4 values betwenn 0 to 10\",g)\n"
   ]
  },
  {
   "cell_type": "markdown",
   "id": "8f3ea474",
   "metadata": {},
   "source": [
    "Flatten"
   ]
  },
  {
   "cell_type": "code",
   "execution_count": 41,
   "id": "76165b9b",
   "metadata": {},
   "outputs": [
    {
     "name": "stdout",
     "output_type": "stream",
     "text": [
      "[[1 2 3]\n",
      " [4 5 6]]\n",
      "[1 2 3 4 5 6]\n"
     ]
    }
   ],
   "source": [
    "b1 = np.array([[1,2,3],[4,5,6]])\n",
    "print(b1)\n",
    "print(\"flattened numpy array\",b1.flatten())"
   ]
  },
  {
   "cell_type": "markdown",
   "id": "52327280",
   "metadata": {},
   "source": [
    "Operations on a single NumPy array"
   ]
  },
  {
   "cell_type": "code",
   "execution_count": 44,
   "id": "fbfe30c8",
   "metadata": {},
   "outputs": [
    {
     "name": "stdout",
     "output_type": "stream",
     "text": [
      "[[ 1  2  3]\n",
      " [ 4  5  6]\n",
      " [ 7  8  9]\n",
      " [10 11 12]\n",
      " [13 14 15]\n",
      " [16 17 18]]\n"
     ]
    },
    {
     "data": {
      "text/plain": [
       "(6, 3)"
      ]
     },
     "execution_count": 44,
     "metadata": {},
     "output_type": "execute_result"
    }
   ],
   "source": [
    "arr = np.array([[1,2,3],[4,5,6],[7,8,9],[10,11,12],[13,14,15],[16,17,18]])\n",
    "print(arr)\n",
    "arr.shape"
   ]
  },
  {
   "cell_type": "code",
   "execution_count": 61,
   "id": "3ca4bfe6",
   "metadata": {},
   "outputs": [
    {
     "name": "stdout",
     "output_type": "stream",
     "text": [
      "Adding: [2 3 4 6]\n",
      "Subtracting [0 1 2 4]\n",
      "Multiply: [ 2  4  6 10]\n",
      "Squarring [ 1  4  9 25]\n",
      "Doubling is same as multiplying [ 2  4  6 10]\n",
      "Array before transpose:\n",
      " [[ 1  2  3]\n",
      " [ 4  5  6]\n",
      " [ 7  8  9]\n",
      " [10 11 12]\n",
      " [13 14 15]\n",
      " [16 17 18]]\n",
      "Transpose: \n",
      " [[ 1  4  7 10 13 16]\n",
      " [ 2  5  8 11 14 17]\n",
      " [ 3  6  9 12 15 18]]\n"
     ]
    }
   ],
   "source": [
    "a6 = np.array([1,2,3,5])\n",
    "print(\"Adding:\",a6+1)\n",
    "print(\"Subtracting\",a6 -1)\n",
    "print(\"Multiply:\",a6*2)\n",
    "print(\"Squarring\",a6**2)\n",
    "a6*=2\n",
    "print(\"Doubling is same as multiplying\",a6)\n",
    "\n",
    "print(\"Array before transpose:\\n\",arr)\n",
    "print(\"Transpose: \\n\",arr.T)"
   ]
  },
  {
   "cell_type": "markdown",
   "id": "a7d77f85",
   "metadata": {},
   "source": [
    "# NumPy – Unary Operators\n",
    "\n",
    " This includes sum, min, max, etc\n",
    " axis = 1 -> Row wise\n",
    " axis = 0 ->column wise"
   ]
  },
  {
   "cell_type": "code",
   "execution_count": 55,
   "id": "965f1954",
   "metadata": {},
   "outputs": [
    {
     "name": "stdout",
     "output_type": "stream",
     "text": [
      "The array: \n",
      " [[ 1  2  3]\n",
      " [ 4  5  6]\n",
      " [ 7  8  9]\n",
      " [10 11 12]\n",
      " [13 14 15]\n",
      " [16 17 18]]\n"
     ]
    }
   ],
   "source": [
    "print(\"The array: \\n\",arr)"
   ]
  },
  {
   "cell_type": "code",
   "execution_count": 60,
   "id": "775ebbc8",
   "metadata": {},
   "outputs": [
    {
     "name": "stdout",
     "output_type": "stream",
     "text": [
      "The largest element: 18\n",
      "The smallest element : 1\n",
      "The max element row-wise:  [ 3  6  9 12 15 18]\n",
      "The minimum of element column-wise  [1 2 3]\n",
      "The Sum:  171\n"
     ]
    }
   ],
   "source": [
    "print(\"The largest element:\",arr.max())\n",
    "print(\"The smallest element :\",arr.min())\n",
    "print(\"The max element row-wise: \",arr.max(axis=1))\n",
    "print(\"The minimum of element column-wise \",arr.min(axis=0))\n",
    "print(\"The Sum: \",arr.sum())"
   ]
  },
  {
   "cell_type": "markdown",
   "id": "c509d064",
   "metadata": {},
   "source": [
    "# NumPy – Binary Operators"
   ]
  },
  {
   "cell_type": "code",
   "execution_count": 66,
   "id": "2ee66366",
   "metadata": {},
   "outputs": [
    {
     "name": "stdout",
     "output_type": "stream",
     "text": [
      "Additioin :\n",
      " [[ 2  4  6]\n",
      " [ 8 10 12]\n",
      " [14 16 18]]\n",
      "Element wise multiplication:\n",
      "  [[ 1  4  9]\n",
      " [16 25 36]\n",
      " [49 64 81]]\n",
      "Matrixmultiplication: \n",
      " [[ 30  36  42]\n",
      " [ 66  81  96]\n",
      " [102 126 150]]\n"
     ]
    }
   ],
   "source": [
    "b1 = np.array([[1,2,3],\n",
    "                [4,5,6],\n",
    "                 [7,8,9]])\n",
    "b2 = np.array([[1,2,3],\n",
    "               [4,5,6],\n",
    "              [7,8,9]])\n",
    "\n",
    "print(\"Additioin :\\n\",b1+b2)\n",
    "print(\"Element wise multiplication:\\n \",b1*b2)\n",
    "print(\"Matrixmultiplication: \\n\",b1.dot(b2))"
   ]
  },
  {
   "cell_type": "markdown",
   "id": "8613fe3c",
   "metadata": {},
   "source": [
    "# Introduction to NymPy’s ufuncs\n",
    "NumPy provides familiar mathematical functions such as sin, cos, exp, etc. These functions also operate elementwise on an array, producing an array as output.\n",
    "\n",
    "Note: All the operations we did above using overloaded operators can be done using ufuncs like np.add, np.subtract, np.multiply, np.divide, np.sum, etc. "
   ]
  },
  {
   "cell_type": "code",
   "execution_count": 71,
   "id": "9c94f109",
   "metadata": {},
   "outputs": [
    {
     "name": "stdout",
     "output_type": "stream",
     "text": [
      "The sine Operations:  [0.         0.24740396 0.47942554 0.68163876 0.84147098]\n",
      "The exponential Oprations: [1.         1.28402542 1.64872127 2.11700002 2.71828183]\n",
      "The Square root :  [0.         0.5        0.70710678 0.8660254  1.        ]\n"
     ]
    }
   ],
   "source": [
    "c1 = np.array([0,1/4,1/2,3/4,1])\n",
    "print(\"The sine Operations: \",np.sin(c1))\n",
    "print(\"The exponential Oprations:\",np.exp(c1))\n",
    "print(\"The Square root : \",np.sqrt(c1))"
   ]
  },
  {
   "cell_type": "markdown",
   "id": "cccbd8a2",
   "metadata": {},
   "source": [
    "# NumPy Sorting Arrays"
   ]
  },
  {
   "cell_type": "code",
   "execution_count": 84,
   "id": "9c37ac77",
   "metadata": {},
   "outputs": [
    {
     "name": "stdout",
     "output_type": "stream",
     "text": [
      "[[ 1  4  7 10 13 16]\n",
      " [ 2  5  8 11 14 17]\n",
      " [ 3  6  9 12 15 18]]\n"
     ]
    }
   ],
   "source": [
    "print(arr)\n",
    "arr = arr.T\n",
    "a1 = np.array([[1,4,2],\n",
    "              [6,-7,2],\n",
    "              [4,1,7]])\n"
   ]
  },
  {
   "cell_type": "code",
   "execution_count": 85,
   "id": "1b92138e",
   "metadata": {},
   "outputs": [
    {
     "name": "stdout",
     "output_type": "stream",
     "text": [
      "Row wise Sorting:  [[ 1  2  4]\n",
      " [-7  2  6]\n",
      " [ 1  4  7]]\n",
      "Column wise Sorting:  [[ 1 -7  2]\n",
      " [ 4  1  2]\n",
      " [ 6  4  7]]\n"
     ]
    }
   ],
   "source": [
    "# print(\"The array wise sorting\",np.sort(arr,axis=None))\n",
    "print(\"Row wise Sorting: \",np.sort(a1,axis=1))\n",
    "print(\"Column wise Sorting: \",np.sort(a1,axis=0))"
   ]
  },
  {
   "cell_type": "markdown",
   "id": "a5a049b6",
   "metadata": {},
   "source": [
    "1. Why NumPy arrays are better than Python lists?\n",
    "NumPy is not only better in performance but it also provides us with several functionalities like broadcasting, indexing, slicing.\n",
    "NumPy arrays are memory efficient as it stores the homogenous data in contiguous blocks of memory, where lists can store heterogenous data.\n",
    "NumPy supports multidimensional arrays which allows easy representation.\n",
    "2. What are ndarrays in NumPy?\n",
    "ndarrays or n-dimensional arrays are capable of storing homogenous elements. They have a fixed size which is defined at the time of creation."
   ]
  },
  {
   "cell_type": "markdown",
   "id": "9374a447",
   "metadata": {},
   "source": [
    "# Python Numpy"
   ]
  },
  {
   "cell_type": "markdown",
   "id": "fe0da61f",
   "metadata": {},
   "source": [
    "Array in Numpy is a table of elements (usually numbers), all of the same type, indexed by a tuple of positive integers. In Numpy, number of dimensions of the array is called rank of the array.A tuple of integers giving the size of the array along each dimension is known as shape of the array. An array class in Numpy is called as ndarray. Elements in Numpy arrays are accessed by using square brackets and can be initialized by using nested Python Lists."
   ]
  },
  {
   "cell_type": "code",
   "execution_count": 86,
   "id": "bfaedfed",
   "metadata": {},
   "outputs": [
    {
     "name": "stdout",
     "output_type": "stream",
     "text": [
      "Array witj 1 dimension: [1 2 3]\n",
      "Array with 2 dimension: [[1 2 3]\n",
      " [4 5 6]]\n"
     ]
    }
   ],
   "source": [
    "r1 = np.array([1,2,3])\n",
    "print(\"Array witj 1 dimension:\",r1)\n",
    "r2 = np.array([[1,2,3],\n",
    "              [4,5,6]])\n",
    "print(\"Array with 2 dimension:\",r2)"
   ]
  },
  {
   "cell_type": "markdown",
   "id": "bc9db690",
   "metadata": {},
   "source": [
    "# Accessing the array Index"
   ]
  },
  {
   "cell_type": "code",
   "execution_count": 89,
   "id": "2c4ccf31",
   "metadata": {},
   "outputs": [
    {
     "name": "stdout",
     "output_type": "stream",
     "text": [
      "Intial Array\n",
      " [[ 1  2  3]\n",
      " [ 4  5  6]\n",
      " [ 7  8  9]\n",
      " [10 11 12]\n",
      " [13 14 15]\n",
      " [16 17 18]]\n"
     ]
    }
   ],
   "source": [
    "print(\"Intial Array\\n\",arr)\n"
   ]
  },
  {
   "cell_type": "code",
   "execution_count": 92,
   "id": "8d05086e",
   "metadata": {},
   "outputs": [
    {
     "name": "stdout",
     "output_type": "stream",
     "text": [
      "[[ 1  3]\n",
      " [ 4  6]\n",
      " [ 7  9]\n",
      " [10 12]]\n"
     ]
    }
   ],
   "source": [
    "#printing First 4 rows and alternate columns\n",
    "print(arr[:4,::2])"
   ]
  },
  {
   "cell_type": "code",
   "execution_count": 96,
   "id": "3ec988d4",
   "metadata": {},
   "outputs": [
    {
     "name": "stdout",
     "output_type": "stream",
     "text": [
      "11\n",
      "15\n"
     ]
    }
   ],
   "source": [
    "print(arr[3,1])\n",
    "print(arr[4,2])"
   ]
  },
  {
   "cell_type": "code",
   "execution_count": 102,
   "id": "b07f9d29",
   "metadata": {},
   "outputs": [
    {
     "name": "stdout",
     "output_type": "stream",
     "text": [
      "[ 2  6  8 10 15]\n"
     ]
    }
   ],
   "source": [
    "# Printing elements at\n",
    "# specific Indices\n",
    "index = arr[[0,1,2,3,4],\n",
    "            [1,2,1,0,2]]\n",
    "print(index)"
   ]
  },
  {
   "cell_type": "markdown",
   "id": "e21723fb",
   "metadata": {},
   "source": [
    "# Data Types in Numpy"
   ]
  },
  {
   "cell_type": "code",
   "execution_count": 107,
   "id": "ea6ce538",
   "metadata": {},
   "outputs": [
    {
     "name": "stdout",
     "output_type": "stream",
     "text": [
      "DataType:  int32\n",
      "DataType:  float64\n",
      "int64\n"
     ]
    }
   ],
   "source": [
    "x = np.array([1,2,3])\n",
    "print(\"DataType: \",x.dtype)\n",
    "y = np.array([4.0,5,0,6.0])\n",
    "print(\"DataType: \",y.dtype)\n",
    "z= np.array([1,2,3], dtype = np.int64)\n",
    "print(z.dtype)"
   ]
  },
  {
   "cell_type": "markdown",
   "id": "630537b1",
   "metadata": {},
   "source": [
    "# Math Operations on DataType array"
   ]
  },
  {
   "cell_type": "code",
   "execution_count": 111,
   "id": "289fee4e",
   "metadata": {},
   "outputs": [],
   "source": [
    "x1 = np.array([[1,2],\n",
    "             [3,4]],dtype=np.float64)\n",
    "x2 =np.array([[5,6],\n",
    "             [7,8]],dtype = np.float64)"
   ]
  },
  {
   "cell_type": "code",
   "execution_count": 112,
   "id": "c340bdf0",
   "metadata": {},
   "outputs": [
    {
     "name": "stdout",
     "output_type": "stream",
     "text": [
      "[[ 6.  8.]\n",
      " [10. 12.]]\n"
     ]
    }
   ],
   "source": [
    "print(np.add(x1,x2))"
   ]
  },
  {
   "cell_type": "code",
   "execution_count": 115,
   "id": "56da5e5d",
   "metadata": {},
   "outputs": [
    {
     "name": "stdout",
     "output_type": "stream",
     "text": [
      "10.0\n"
     ]
    }
   ],
   "source": [
    "print(np.sum(x1))"
   ]
  },
  {
   "cell_type": "markdown",
   "id": "6a72dec7",
   "metadata": {},
   "source": [
    "\n",
    "# NumPy Array in Python"
   ]
  },
  {
   "cell_type": "markdown",
   "id": "e1f3577e",
   "metadata": {},
   "source": [
    "Python lists are a substitute for arrays, but they fail to deliver the performance required while computing large sets of numerical data.\n",
    "\n",
    "To address this issue we use the NumPy library of Python. NumPy offers an array object called ndarray."
   ]
  },
  {
   "cell_type": "code",
   "execution_count": 117,
   "id": "f110ee88",
   "metadata": {},
   "outputs": [
    {
     "name": "stdout",
     "output_type": "stream",
     "text": [
      "[1 2 3 4]\n"
     ]
    }
   ],
   "source": [
    "#single dimensional\n",
    "w = np.array([1,2,3,4,])\n",
    "print(w)"
   ]
  },
  {
   "cell_type": "code",
   "execution_count": 118,
   "id": "5433c890",
   "metadata": {},
   "outputs": [
    {
     "name": "stdout",
     "output_type": "stream",
     "text": [
      "The type of list:  <class 'list'>\n",
      "The typye of numpy array <class 'numpy.ndarray'>\n"
     ]
    }
   ],
   "source": [
    "#passing list as a numpy array\n",
    "li = [3,4,56]\n",
    "a = np.array(li)\n",
    "\n",
    "print(\"The type of list: \", type(li))\n",
    "print(\"The typye of numpy array\", type(a))"
   ]
  },
  {
   "cell_type": "code",
   "execution_count": 120,
   "id": "28d6f551",
   "metadata": {},
   "outputs": [
    {
     "name": "stdout",
     "output_type": "stream",
     "text": [
      "The type of list:  <class 'tuple'>\n",
      "The typye of numpy array <class 'numpy.ndarray'>\n"
     ]
    }
   ],
   "source": [
    "#passing tuple as a numpy array\n",
    "tu = (3,4,56)\n",
    "a = np.array(tu)\n",
    "\n",
    "print(\"The type of list: \", type(tu))\n",
    "print(\"The typye of numpy array\", type(a))"
   ]
  },
  {
   "cell_type": "markdown",
   "id": "4e4020bc",
   "metadata": {},
   "source": [
    "# Why is the Numpy Array so Fast?\n",
    "Numpy arrays are written mostly in C language. Being written in C, the arrays are stored in contiguous memory locations which makes them accessible and easier to manipulate. This means that you can get the performance level of a C code with the ease of writing a Python program.\n",
    "\n",
    "Homogeneous Data: Arrays store elements of the same data type, making them more compact and memory-efficient than lists.\n",
    "Fixed Data Type: Arrays have a fixed data type, reducing memory overhead by eliminating the need to store type information for each element.\n",
    "Contiguous Memory: Arrays store elements in adjacent memory locations, reducing fragmentation and allowing for efficient access."
   ]
  },
  {
   "cell_type": "markdown",
   "id": "11f5bc2b",
   "metadata": {},
   "source": [
    "Types of Array:\n",
    "One Dimensional Array\n",
    "Multi-Dimensional Array"
   ]
  },
  {
   "cell_type": "markdown",
   "id": "7c2a4e99",
   "metadata": {},
   "source": [
    "Some different way of creating Numpy Array :\n",
    "\n",
    "1. numpy.array(): The Numpy array object in Numpy is called ndarray. We can create ndarray using numpy.array() function."
   ]
  },
  {
   "cell_type": "code",
   "execution_count": 121,
   "id": "e25dc0d0",
   "metadata": {},
   "outputs": [
    {
     "data": {
      "text/plain": [
       "array([ 1, 23, 45, 48])"
      ]
     },
     "execution_count": 121,
     "metadata": {},
     "output_type": "execute_result"
    }
   ],
   "source": [
    "ar =np.array([1,23,45,48])\n",
    "ar"
   ]
  },
  {
   "cell_type": "markdown",
   "id": "03b5067d",
   "metadata": {},
   "source": [
    "# 2. numpy.fromiter(): The fromiter() function create a new one-dimensional array from an iterable object.\n",
    "\n",
    "Syntax: numpy.fromiter(iterable, dtype, count=-1)"
   ]
  },
  {
   "cell_type": "code",
   "execution_count": 134,
   "id": "cc6c4c34",
   "metadata": {},
   "outputs": [
    {
     "data": {
      "text/plain": [
       "array([ 0.,  1.,  4.,  9., 16., 25., 36., 49.])"
      ]
     },
     "execution_count": 134,
     "metadata": {},
     "output_type": "execute_result"
    }
   ],
   "source": [
    "iterable = (a*a for a in range (8))\n",
    "new_array = np.fromiter(iterable,float)\n",
    "new_array"
   ]
  },
  {
   "cell_type": "markdown",
   "id": "cc3e9b6b",
   "metadata": {},
   "source": [
    "3. numpy.arange(): This is an inbuilt NumPy function that returns evenly spaced values within a given interval.\n"
   ]
  },
  {
   "cell_type": "code",
   "execution_count": 138,
   "id": "d3c26390",
   "metadata": {},
   "outputs": [
    {
     "name": "stdout",
     "output_type": "stream",
     "text": [
      "[  0 100 200 300 400 500 600 700 800 900] <class 'int'>\n"
     ]
    }
   ],
   "source": [
    "print(np.arange(0,1000,100),int)"
   ]
  },
  {
   "cell_type": "code",
   "execution_count": 140,
   "id": "606a7043",
   "metadata": {},
   "outputs": [
    {
     "name": "stdout",
     "output_type": "stream",
     "text": [
      "[  0. 100. 200. 300. 400. 500. 600. 700. 800. 900.]\n"
     ]
    }
   ],
   "source": [
    "print(np.arange(0,1000,100,dtype=np.float64))"
   ]
  },
  {
   "cell_type": "markdown",
   "id": "672b15fe",
   "metadata": {},
   "source": [
    "4. numpy.linspace(): This function returns evenly spaced numbers over a specified between two limits. \n",
    "\n",
    "Syntax: numpy.linspace(start, stop, num=50, endpoint=True, retstep=False, dtype=None, axis=0)"
   ]
  },
  {
   "cell_type": "code",
   "execution_count": 142,
   "id": "a3a65dff",
   "metadata": {},
   "outputs": [
    {
     "data": {
      "text/plain": [
       "array([  0,  25,  50,  75, 100], dtype=int64)"
      ]
     },
     "execution_count": 142,
     "metadata": {},
     "output_type": "execute_result"
    }
   ],
   "source": [
    "np.linspace(0,100,5,dtype=np.int64)"
   ]
  },
  {
   "cell_type": "markdown",
   "id": "8a388acf",
   "metadata": {},
   "source": [
    "5. numpy.empty(): This function create a new array of given shape and type, without initializing value.\n",
    "\n",
    "Syntax: numpy.empty(shape, dtype=float, order=’C’)"
   ]
  },
  {
   "cell_type": "code",
   "execution_count": 154,
   "id": "c57b3e3a",
   "metadata": {},
   "outputs": [
    {
     "data": {
      "text/plain": [
       "array([[      2040066929512,        206158430208, 3544387221759222584],\n",
       "       [                 64, 4135765954635773492, 3919928524323305317],\n",
       "       [                  0, 3774687620269172276, 3688783657125296184],\n",
       "       [                  0, 3990580014771221809, 7149805494187931188]],\n",
       "      dtype=int64)"
      ]
     },
     "execution_count": 154,
     "metadata": {},
     "output_type": "execute_result"
    }
   ],
   "source": [
    "np.empty([4,3],dtype=np.int64,order='f')"
   ]
  },
  {
   "cell_type": "markdown",
   "id": "ee5ef61c",
   "metadata": {},
   "source": [
    "6. numpy.ones(): This function is used to get a new array of given shape and type, filled with ones(1)."
   ]
  },
  {
   "cell_type": "code",
   "execution_count": 157,
   "id": "c8f79b6a",
   "metadata": {},
   "outputs": [
    {
     "name": "stdout",
     "output_type": "stream",
     "text": [
      "[[1 1 1 1]\n",
      " [1 1 1 1]\n",
      " [1 1 1 1]]\n"
     ]
    }
   ],
   "source": [
    "print(np.ones([3,4],dtype=np.int32))"
   ]
  },
  {
   "cell_type": "code",
   "execution_count": 159,
   "id": "b73eb534",
   "metadata": {},
   "outputs": [
    {
     "name": "stdout",
     "output_type": "stream",
     "text": [
      "[[0 0 0]\n",
      " [0 0 0]\n",
      " [0 0 0]\n",
      " [0 0 0]]\n"
     ]
    }
   ],
   "source": [
    "print(np.zeros([4,3],dtype=np.int32))"
   ]
  },
  {
   "cell_type": "code",
   "execution_count": null,
   "id": "6e29481b",
   "metadata": {},
   "outputs": [],
   "source": []
  }
 ],
 "metadata": {
  "kernelspec": {
   "display_name": "Python 3 (ipykernel)",
   "language": "python",
   "name": "python3"
  },
  "language_info": {
   "codemirror_mode": {
    "name": "ipython",
    "version": 3
   },
   "file_extension": ".py",
   "mimetype": "text/x-python",
   "name": "python",
   "nbconvert_exporter": "python",
   "pygments_lexer": "ipython3",
   "version": "3.11.5"
  }
 },
 "nbformat": 4,
 "nbformat_minor": 5
}
