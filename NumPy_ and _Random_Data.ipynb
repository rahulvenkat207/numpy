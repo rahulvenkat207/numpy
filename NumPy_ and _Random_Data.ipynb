{
 "cells": [
  {
   "cell_type": "code",
   "execution_count": 1,
   "id": "c7c4f2e3",
   "metadata": {},
   "outputs": [],
   "source": [
    "import numpy as np"
   ]
  },
  {
   "cell_type": "markdown",
   "id": "579a7881",
   "metadata": {},
   "source": [
    "# Random sampling in numpy | ranf() function"
   ]
  },
  {
   "cell_type": "markdown",
   "id": "7e66eacb",
   "metadata": {},
   "source": [
    "numpy.random.ranf() is one of the function for doing random sampling in numpy. It returns an array of specified shape and fills it with random floats in the half-open interval [0.0, 1.0)"
   ]
  },
  {
   "cell_type": "code",
   "execution_count": 4,
   "id": "01d476b5",
   "metadata": {},
   "outputs": [
    {
     "data": {
      "text/plain": [
       "0.7939913559367309"
      ]
     },
     "execution_count": 4,
     "metadata": {},
     "output_type": "execute_result"
    }
   ],
   "source": [
    "val1d = np.random.ranf()\n",
    "val1d"
   ]
  },
  {
   "cell_type": "code",
   "execution_count": 6,
   "id": "52e1a1a1",
   "metadata": {},
   "outputs": [
    {
     "data": {
      "text/plain": [
       "array([[0.44705258],\n",
       "       [0.81780789]])"
      ]
     },
     "execution_count": 6,
     "metadata": {},
     "output_type": "execute_result"
    }
   ],
   "source": [
    "val2d = np.random.ranf(size=(2,1))\n",
    "val2d"
   ]
  },
  {
   "cell_type": "code",
   "execution_count": 8,
   "id": "78b672d1",
   "metadata": {},
   "outputs": [
    {
     "data": {
      "text/plain": [
       "array([[[0.506964  , 0.39135148, 0.89845221],\n",
       "        [0.57982745, 0.35263262, 0.89468556],\n",
       "        [0.94552687, 0.77706062, 0.76983771]],\n",
       "\n",
       "       [[0.98984597, 0.7455334 , 0.12389561],\n",
       "        [0.75541252, 0.04759615, 0.45532868],\n",
       "        [0.19589985, 0.33165031, 0.162321  ]],\n",
       "\n",
       "       [[0.69192769, 0.88422318, 0.83698842],\n",
       "        [0.09915366, 0.88271049, 0.94031144],\n",
       "        [0.35058488, 0.00828266, 0.50672154]]])"
      ]
     },
     "execution_count": 8,
     "metadata": {},
     "output_type": "execute_result"
    }
   ],
   "source": [
    "val3d = np.random.ranf(size= (3,3,3))\n",
    "val3d"
   ]
  },
  {
   "cell_type": "markdown",
   "id": "7fa9c318",
   "metadata": {},
   "source": [
    "# Random sampling in numpy | random() function"
   ]
  },
  {
   "cell_type": "markdown",
   "id": "5e98af19",
   "metadata": {},
   "source": [
    "numpy.random.random() is one of the function for doing random sampling in numpy. It returns an array of specified shape and fills it with random floats in the half-open interval [0.0, 1.0)."
   ]
  },
  {
   "cell_type": "code",
   "execution_count": 10,
   "id": "1a7a676a",
   "metadata": {},
   "outputs": [
    {
     "data": {
      "text/plain": [
       "array([0.54523511, 0.01960751, 0.10155192, 0.9250271 ])"
      ]
     },
     "execution_count": 10,
     "metadata": {},
     "output_type": "execute_result"
    }
   ],
   "source": [
    "val1d=np.random.random(size=4)\n",
    "val1d"
   ]
  },
  {
   "cell_type": "code",
   "execution_count": 12,
   "id": "acb3d54b",
   "metadata": {},
   "outputs": [
    {
     "data": {
      "text/plain": [
       "array([[0.73832846],\n",
       "       [0.16508353]])"
      ]
     },
     "execution_count": 12,
     "metadata": {},
     "output_type": "execute_result"
    }
   ],
   "source": [
    "val2d=np.random.random(size = (2,1))\n",
    "val2d"
   ]
  },
  {
   "cell_type": "code",
   "execution_count": 13,
   "id": "3d66bf32",
   "metadata": {},
   "outputs": [
    {
     "data": {
      "text/plain": [
       "array([[0.36518132, 0.21414479, 0.34880133],\n",
       "       [0.79707109, 0.02219764, 0.17076723],\n",
       "       [0.23078627, 0.5752586 , 0.11129445],\n",
       "       [0.8673182 , 0.24433657, 0.71711439]])"
      ]
     },
     "execution_count": 13,
     "metadata": {},
     "output_type": "execute_result"
    }
   ],
   "source": [
    "val3d = np.random.random(size = (4,3))\n",
    "val3d"
   ]
  },
  {
   "cell_type": "markdown",
   "id": "2a751c5d",
   "metadata": {},
   "source": [
    "# Random sampling in numpy | random_sample() function"
   ]
  },
  {
   "cell_type": "markdown",
   "id": "6985322e",
   "metadata": {},
   "source": [
    "numpy.random.random_sample() is one of the function for doing random sampling in numpy. It returns an array of specified shape and fills it with random floats in the half-open interval [0.0, 1.0)."
   ]
  },
  {
   "cell_type": "code",
   "execution_count": 16,
   "id": "50b65ed8",
   "metadata": {},
   "outputs": [
    {
     "data": {
      "text/plain": [
       "array([0.90382042, 0.78710671, 0.1344146 , 0.80488058, 0.04085228])"
      ]
     },
     "execution_count": 16,
     "metadata": {},
     "output_type": "execute_result"
    }
   ],
   "source": [
    "val = np.random.random_sample(size =5)\n",
    "val"
   ]
  },
  {
   "cell_type": "markdown",
   "id": "d914d563",
   "metadata": {},
   "source": [
    "# Random sampling in numpy | randint() function"
   ]
  },
  {
   "cell_type": "markdown",
   "id": "228bda56",
   "metadata": {},
   "source": [
    "numpy.random.randint() is one of the function for doing random sampling in numpy. It returns an array of specified shape and fills it with random integers from low (inclusive) to high (exclusive), i.e. in the interval [low, high)."
   ]
  },
  {
   "cell_type": "code",
   "execution_count": 24,
   "id": "83815c9b",
   "metadata": {},
   "outputs": [
    {
     "data": {
      "text/plain": [
       "array([65, 63, 19, 12, 25])"
      ]
     },
     "execution_count": 24,
     "metadata": {},
     "output_type": "execute_result"
    }
   ],
   "source": [
    "np.random.randint(low=0,high=100,size= 5)"
   ]
  },
  {
   "cell_type": "code",
   "execution_count": 25,
   "id": "90a143cd",
   "metadata": {},
   "outputs": [
    {
     "data": {
      "text/plain": [
       "array([[86, 57],\n",
       "       [90, 44],\n",
       "       [21, 20],\n",
       "       [88, 52],\n",
       "       [80, 45]])"
      ]
     },
     "execution_count": 25,
     "metadata": {},
     "output_type": "execute_result"
    }
   ],
   "source": [
    "np.random.randint(low = 0, high = 100,size = (5,2))"
   ]
  },
  {
   "cell_type": "code",
   "execution_count": 26,
   "id": "268e8e96",
   "metadata": {},
   "outputs": [
    {
     "data": {
      "text/plain": [
       "array([[[61, 11],\n",
       "        [56, 87]],\n",
       "\n",
       "       [[43, 53],\n",
       "        [89, 37]],\n",
       "\n",
       "       [[25, 12],\n",
       "        [47, 14]],\n",
       "\n",
       "       [[46, 86],\n",
       "        [62, 34]],\n",
       "\n",
       "       [[94, 21],\n",
       "        [85, 45]]])"
      ]
     },
     "execution_count": 26,
     "metadata": {},
     "output_type": "execute_result"
    }
   ],
   "source": [
    "np.random.randint(low = 0, high = 100,size = (5,2,2))"
   ]
  },
  {
   "cell_type": "markdown",
   "id": "31bc57d1",
   "metadata": {},
   "source": [
    "# numpy.random.choice() in Python"
   ]
  },
  {
   "cell_type": "markdown",
   "id": "bc0f1c13",
   "metadata": {},
   "source": [
    "With the help of choice() method, we can get the random samples of one dimensional array and return the random samples of numpy array."
   ]
  },
  {
   "cell_type": "code",
   "execution_count": 30,
   "id": "3fc6bfcc",
   "metadata": {},
   "outputs": [
    {
     "data": {
      "text/plain": [
       "5"
      ]
     },
     "execution_count": 30,
     "metadata": {},
     "output_type": "execute_result"
    }
   ],
   "source": [
    "np.random.choice((1,2,3,4,5))"
   ]
  },
  {
   "cell_type": "code",
   "execution_count": 32,
   "id": "e79a3b1b",
   "metadata": {},
   "outputs": [
    {
     "data": {
      "text/plain": [
       "10"
      ]
     },
     "execution_count": 32,
     "metadata": {},
     "output_type": "execute_result"
    }
   ],
   "source": [
    "li = [10,20,30,40]\n",
    "np.random.choice(li)"
   ]
  },
  {
   "cell_type": "markdown",
   "id": "ef00f357",
   "metadata": {},
   "source": [
    "# numpy.random.shuffle() in python"
   ]
  },
  {
   "cell_type": "code",
   "execution_count": 37,
   "id": "fff269f6",
   "metadata": {},
   "outputs": [
    {
     "data": {
      "text/plain": [
       "array([ 1,  6, 11, 16, 21, 26, 31, 36, 41, 46, 51, 56, 61, 66, 71, 76, 81,\n",
       "       86, 91, 96])"
      ]
     },
     "execution_count": 37,
     "metadata": {},
     "output_type": "execute_result"
    }
   ],
   "source": [
    "x = np.arange(1,100,5)\n",
    "x"
   ]
  },
  {
   "cell_type": "code",
   "execution_count": 43,
   "id": "fb5cf7a6",
   "metadata": {},
   "outputs": [
    {
     "data": {
      "text/plain": [
       "array([26,  1, 21, 66, 61,  6, 81, 36, 96, 91, 86, 46, 31, 16, 11, 71, 56,\n",
       "       41, 76, 51])"
      ]
     },
     "execution_count": 43,
     "metadata": {},
     "output_type": "execute_result"
    }
   ],
   "source": [
    "np.random.shuffle(x)\n",
    "x"
   ]
  },
  {
   "cell_type": "code",
   "execution_count": null,
   "id": "7386070c",
   "metadata": {},
   "outputs": [],
   "source": []
  },
  {
   "cell_type": "code",
   "execution_count": null,
   "id": "0471a929",
   "metadata": {},
   "outputs": [],
   "source": []
  }
 ],
 "metadata": {
  "kernelspec": {
   "display_name": "Python 3 (ipykernel)",
   "language": "python",
   "name": "python3"
  },
  "language_info": {
   "codemirror_mode": {
    "name": "ipython",
    "version": 3
   },
   "file_extension": ".py",
   "mimetype": "text/x-python",
   "name": "python",
   "nbconvert_exporter": "python",
   "pygments_lexer": "ipython3",
   "version": "3.11.5"
  }
 },
 "nbformat": 4,
 "nbformat_minor": 5
}
