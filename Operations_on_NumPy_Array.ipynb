{
 "cells": [
  {
   "cell_type": "code",
   "execution_count": 2,
   "id": "9edfee6a",
   "metadata": {},
   "outputs": [],
   "source": [
    "import numpy as np\n",
    "import math"
   ]
  },
  {
   "cell_type": "markdown",
   "id": "3b42cfa1",
   "metadata": {},
   "source": [
    "# Numpy | Mathematical Function"
   ]
  },
  {
   "cell_type": "markdown",
   "id": "631cdd0f",
   "metadata": {},
   "source": [
    "# Trigonometric Functions "
   ]
  },
  {
   "cell_type": "code",
   "execution_count": 5,
   "id": "6f39a79b",
   "metadata": {},
   "outputs": [
    {
     "name": "stdout",
     "output_type": "stream",
     "text": [
      "[0.         0.70710678 1.         0.84147098]\n"
     ]
    }
   ],
   "source": [
    "values = [0, math.pi/4,math.pi/2,1]\n",
    "sin_values = np.sin(values)\n",
    "print(sin_values)"
   ]
  },
  {
   "cell_type": "code",
   "execution_count": 6,
   "id": "cdf670aa",
   "metadata": {},
   "outputs": [
    {
     "name": "stdout",
     "output_type": "stream",
     "text": [
      "[0.         0.70710678 1.         0.84147098]\n"
     ]
    }
   ],
   "source": [
    "sin_values = np.sin(values)\n",
    "print(sin_values)"
   ]
  },
  {
   "cell_type": "code",
   "execution_count": 7,
   "id": "b451f214",
   "metadata": {},
   "outputs": [
    {
     "name": "stdout",
     "output_type": "stream",
     "text": [
      "[1.00000000e+00 7.07106781e-01 6.12323400e-17 5.40302306e-01]\n"
     ]
    }
   ],
   "source": [
    "cos_values = np.cos(values)\n",
    "print(cos_values)"
   ]
  },
  {
   "cell_type": "code",
   "execution_count": 8,
   "id": "90b12ea1",
   "metadata": {},
   "outputs": [
    {
     "name": "stdout",
     "output_type": "stream",
     "text": [
      "[0.00000000e+00 1.00000000e+00 1.63312394e+16 1.55740772e+00]\n"
     ]
    }
   ],
   "source": [
    "tan_values = np.tan(values)\n",
    "print(tan_values)"
   ]
  },
  {
   "cell_type": "code",
   "execution_count": 9,
   "id": "bf04a0c7",
   "metadata": {},
   "outputs": [
    {
     "name": "stdout",
     "output_type": "stream",
     "text": [
      "[0.         0.86867096 2.3012989  1.17520119]\n"
     ]
    }
   ],
   "source": [
    "sin_hyperbolic = np.sinh(values)\n",
    "print(sin_hyperbolic)"
   ]
  },
  {
   "cell_type": "markdown",
   "id": "8a218604",
   "metadata": {},
   "source": [
    "degrees()\tConvert angles from radians to degrees.\n",
    "rad2deg()\tConvert angles from radians to degrees.\n",
    "deg2rad\tConvert angles from degrees to radians.\n",
    "radians()\tConvert angles from degrees to radians."
   ]
  },
  {
   "cell_type": "markdown",
   "id": "252997ee",
   "metadata": {},
   "source": [
    "# Functions for Rounding"
   ]
  },
  {
   "cell_type": "code",
   "execution_count": 12,
   "id": "50da6b35",
   "metadata": {},
   "outputs": [
    {
     "data": {
      "text/plain": [
       "array([0.        , 0.11111111, 0.22222222, 0.33333333, 0.44444444,\n",
       "       0.55555556, 0.66666667, 0.77777778, 0.88888889, 1.        ])"
      ]
     },
     "execution_count": 12,
     "metadata": {},
     "output_type": "execute_result"
    }
   ],
   "source": [
    "arr = np.linspace(0,1,10)\n",
    "arr"
   ]
  },
  {
   "cell_type": "code",
   "execution_count": 14,
   "id": "2edd889a",
   "metadata": {},
   "outputs": [
    {
     "data": {
      "text/plain": [
       "array([0., 0., 0., 0., 0., 1., 1., 1., 1., 1.])"
      ]
     },
     "execution_count": 14,
     "metadata": {},
     "output_type": "execute_result"
    }
   ],
   "source": [
    "new_Arr = np.around(arr)\n",
    "new_Arr"
   ]
  },
  {
   "cell_type": "code",
   "execution_count": 16,
   "id": "2303a425",
   "metadata": {},
   "outputs": [
    {
     "data": {
      "text/plain": [
       "array([0.   , 0.111, 0.222, 0.333, 0.444, 0.556, 0.667, 0.778, 0.889,\n",
       "       1.   ])"
      ]
     },
     "execution_count": 16,
     "metadata": {},
     "output_type": "execute_result"
    }
   ],
   "source": [
    "new_Arr = np.around(arr,decimals= 3)\n",
    "new_Arr"
   ]
  },
  {
   "cell_type": "markdown",
   "id": "7f1c6f87",
   "metadata": {},
   "source": [
    "rint()\tRound to nearest integer towards zero.\n",
    "fix()\tRound to nearest integer towards zero.\n",
    "floor()\tReturn the floor of the input, element-wise.\n",
    "ceil()\tReturn the ceiling of the input, element-wise.\n",
    "trunc()\tReturn the truncated value of the input, element-wise."
   ]
  },
  {
   "cell_type": "markdown",
   "id": "7836f1a9",
   "metadata": {},
   "source": [
    "# Exponents and logarithms Functions "
   ]
  },
  {
   "cell_type": "markdown",
   "id": "c194f899",
   "metadata": {},
   "source": [
    "numpy.exp(array, out = None, where = True, casting = ‘same_kind’, order = ‘K’, dtype = None) : This mathematical function helps user to calculate exponential of all the elements in the input array."
   ]
  },
  {
   "cell_type": "code",
   "execution_count": 17,
   "id": "3f77aac8",
   "metadata": {},
   "outputs": [
    {
     "data": {
      "text/plain": [
       "array([1.        , 1.11739491, 1.24857138, 1.3951473 , 1.55893049,\n",
       "       1.7436838 , 1.94838339, 2.17711368, 2.43269574, 2.71828183])"
      ]
     },
     "execution_count": 17,
     "metadata": {},
     "output_type": "execute_result"
    }
   ],
   "source": [
    "np.exp(new_Arr)"
   ]
  },
  {
   "cell_type": "code",
   "execution_count": 18,
   "id": "5e960871",
   "metadata": {},
   "outputs": [
    {
     "name": "stderr",
     "output_type": "stream",
     "text": [
      "C:\\Users\\rahul\\AppData\\Local\\Temp\\ipykernel_18180\\1778330005.py:1: RuntimeWarning: divide by zero encountered in log\n",
      "  np.log(new_Arr)\n"
     ]
    },
    {
     "data": {
      "text/plain": [
       "array([       -inf, -2.19822508, -1.5050779 , -1.09961279, -0.81193072,\n",
       "       -0.58698698, -0.40496523, -0.25102875, -0.11765804,  0.        ])"
      ]
     },
     "execution_count": 18,
     "metadata": {},
     "output_type": "execute_result"
    }
   ],
   "source": [
    "np.log(new_Arr)"
   ]
  },
  {
   "cell_type": "markdown",
   "id": "6c42e22d",
   "metadata": {},
   "source": [
    "log10()\tReturn the base 10 logarithm of the input array, element-wise.\n",
    "log2()\tBase-2 logarithm of x.\n",
    "log1p()\tReturn the natural logarithm of one plus the input array, element-wise."
   ]
  },
  {
   "cell_type": "markdown",
   "id": "1260a4fb",
   "metadata": {},
   "source": [
    "# Arithmetic Functions "
   ]
  },
  {
   "cell_type": "markdown",
   "id": "2e6fb44f",
   "metadata": {},
   "source": [
    "numpy.reciprocal(x, /, out=None, *, where=True) : This mathematical function is used to calculate reciprocal of all the elements in the input array."
   ]
  },
  {
   "cell_type": "code",
   "execution_count": 21,
   "id": "1c8a2880",
   "metadata": {},
   "outputs": [
    {
     "data": {
      "text/plain": [
       "0.5"
      ]
     },
     "execution_count": 21,
     "metadata": {},
     "output_type": "execute_result"
    }
   ],
   "source": [
    "np.reciprocal(2.0)"
   ]
  },
  {
   "cell_type": "markdown",
   "id": "8fe408e2",
   "metadata": {},
   "source": [
    "# Numpy | String Operations"
   ]
  },
  {
   "cell_type": "code",
   "execution_count": 23,
   "id": "79c7dcd7",
   "metadata": {},
   "outputs": [
    {
     "data": {
      "text/plain": [
       "array(['rahul', 'virat'], dtype='<U5')"
      ]
     },
     "execution_count": 23,
     "metadata": {},
     "output_type": "execute_result"
    }
   ],
   "source": [
    "np.char.lower(['RAHUL','virat'])"
   ]
  },
  {
   "cell_type": "code",
   "execution_count": 24,
   "id": "2fa365c0",
   "metadata": {},
   "outputs": [
    {
     "data": {
      "text/plain": [
       "array([list(['Orewa', 'Namikazae', 'Minato'])], dtype=object)"
      ]
     },
     "execution_count": 24,
     "metadata": {},
     "output_type": "execute_result"
    }
   ],
   "source": [
    "np.char.split([\"Orewa Namikazae Minato\"])\n"
   ]
  },
  {
   "cell_type": "code",
   "execution_count": 25,
   "id": "0005dc87",
   "metadata": {},
   "outputs": [
    {
     "data": {
      "text/plain": [
       "array([list(['Uzumaki Naruto']), list(['Uzumaki Buroto'])], dtype=object)"
      ]
     },
     "execution_count": 25,
     "metadata": {},
     "output_type": "execute_result"
    }
   ],
   "source": [
    "np.char.split(['Uzumaki Naruto','Uzumaki Buroto'],sep=',')"
   ]
  },
  {
   "cell_type": "code",
   "execution_count": 29,
   "id": "ddc9cc06",
   "metadata": {},
   "outputs": [
    {
     "name": "stdout",
     "output_type": "stream",
     "text": [
      "False\n"
     ]
    }
   ],
   "source": [
    "print(np.char.isnumeric('12geeks'))"
   ]
  },
  {
   "cell_type": "code",
   "execution_count": 31,
   "id": "58e4e951",
   "metadata": {},
   "outputs": [
    {
     "data": {
      "text/plain": [
       "array(False)"
      ]
     },
     "execution_count": 31,
     "metadata": {},
     "output_type": "execute_result"
    }
   ],
   "source": [
    "a=np.char.equal('geeks','for')\n",
    "a"
   ]
  },
  {
   "cell_type": "code",
   "execution_count": null,
   "id": "ade607a2",
   "metadata": {},
   "outputs": [],
   "source": []
  }
 ],
 "metadata": {
  "kernelspec": {
   "display_name": "Python 3 (ipykernel)",
   "language": "python",
   "name": "python3"
  },
  "language_info": {
   "codemirror_mode": {
    "name": "ipython",
    "version": 3
   },
   "file_extension": ".py",
   "mimetype": "text/x-python",
   "name": "python",
   "nbconvert_exporter": "python",
   "pygments_lexer": "ipython3",
   "version": "3.11.5"
  }
 },
 "nbformat": 4,
 "nbformat_minor": 5
}
