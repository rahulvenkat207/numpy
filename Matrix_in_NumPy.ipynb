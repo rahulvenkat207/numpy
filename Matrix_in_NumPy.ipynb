{
 "cells": [
  {
   "cell_type": "code",
   "execution_count": 1,
   "id": "94e2355c",
   "metadata": {},
   "outputs": [],
   "source": [
    "import numpy as np"
   ]
  },
  {
   "cell_type": "markdown",
   "id": "b2751d0c",
   "metadata": {},
   "source": [
    "# Matrix manipulation in Python"
   ]
  },
  {
   "cell_type": "code",
   "execution_count": 4,
   "id": "ea3cf7d9",
   "metadata": {},
   "outputs": [
    {
     "name": "stdout",
     "output_type": "stream",
     "text": [
      "Matrix1: \n",
      " [[7 3]\n",
      " [4 8]]\n",
      "Matrix2: \n",
      " [[2 1]\n",
      " [1 4]]\n"
     ]
    }
   ],
   "source": [
    "matrix1 = np.array([[7,3],[4,8]])\n",
    "matrix2 = np.array([[2,1],[1,4]])\n",
    "print(\"Matrix1: \\n\",matrix1)\n",
    "print(\"Matrix2: \\n\",matrix2)"
   ]
  },
  {
   "cell_type": "code",
   "execution_count": 3,
   "id": "47e0b60d",
   "metadata": {},
   "outputs": [
    {
     "name": "stdout",
     "output_type": "stream",
     "text": [
      "Element Wise Multiplication:  [[ 9  4]\n",
      " [ 5 12]]\n"
     ]
    }
   ],
   "source": [
    "print(\"Element Wise Addtion: \",np.add(matrix1,matrix2))"
   ]
  },
  {
   "cell_type": "code",
   "execution_count": 5,
   "id": "c810475a",
   "metadata": {},
   "outputs": [
    {
     "name": "stdout",
     "output_type": "stream",
     "text": [
      "Element Wise subtraction:  [[5 2]\n",
      " [3 4]]\n"
     ]
    }
   ],
   "source": [
    "print(\"Element Wise subtraction: \",np.subtract(matrix1,matrix2))"
   ]
  },
  {
   "cell_type": "code",
   "execution_count": 6,
   "id": "f2a2d80a",
   "metadata": {},
   "outputs": [
    {
     "name": "stdout",
     "output_type": "stream",
     "text": [
      "Element Wise subtraction:  [[14  3]\n",
      " [ 4 32]]\n"
     ]
    }
   ],
   "source": [
    "print(\"Element Wise subtraction: \",np.multiply(matrix1,matrix2))"
   ]
  },
  {
   "cell_type": "code",
   "execution_count": 7,
   "id": "56bec16c",
   "metadata": {},
   "outputs": [
    {
     "name": "stdout",
     "output_type": "stream",
     "text": [
      "Element Wise subtraction:  [[3.5 3. ]\n",
      " [4.  2. ]]\n"
     ]
    }
   ],
   "source": [
    "print(\"Element Wise subtraction: \",np.divide(matrix1,matrix2))"
   ]
  },
  {
   "cell_type": "code",
   "execution_count": 8,
   "id": "0ed6f6df",
   "metadata": {},
   "outputs": [
    {
     "name": "stdout",
     "output_type": "stream",
     "text": [
      "Matrix Multiplication:  [[17 19]\n",
      " [16 36]]\n"
     ]
    }
   ],
   "source": [
    "print(\"Matrix Multiplication: \",matrix1.dot(matrix2))"
   ]
  },
  {
   "cell_type": "code",
   "execution_count": 9,
   "id": "cea5cd61",
   "metadata": {},
   "outputs": [
    {
     "name": "stdout",
     "output_type": "stream",
     "text": [
      "Matrix Multiplication:  [[17 19]\n",
      " [16 36]]\n"
     ]
    }
   ],
   "source": [
    "print(\"Matrix Multiplication: \",np.dot(matrix1,matrix2))"
   ]
  },
  {
   "cell_type": "code",
   "execution_count": 10,
   "id": "e3878a95",
   "metadata": {},
   "outputs": [
    {
     "name": "stdout",
     "output_type": "stream",
     "text": [
      "Square Root:  [[2.64575131 1.73205081]\n",
      " [2.         2.82842712]]\n"
     ]
    }
   ],
   "source": [
    "print(\"Square Root: \",np.sqrt(matrix1))"
   ]
  },
  {
   "cell_type": "code",
   "execution_count": 11,
   "id": "2700c79b",
   "metadata": {},
   "outputs": [
    {
     "name": "stdout",
     "output_type": "stream",
     "text": [
      "Summation of all elements in array:  22\n"
     ]
    }
   ],
   "source": [
    "print(\"Summation of all elements in array: \",np.sum(matrix1))"
   ]
  },
  {
   "cell_type": "code",
   "execution_count": 13,
   "id": "5a314f18",
   "metadata": {},
   "outputs": [
    {
     "name": "stdout",
     "output_type": "stream",
     "text": [
      "Column wise Summation: [11 11]\n"
     ]
    }
   ],
   "source": [
    "print(\"Column wise Summation:\",np.sum(matrix1,axis=0))"
   ]
  },
  {
   "cell_type": "code",
   "execution_count": 14,
   "id": "ed02f931",
   "metadata": {},
   "outputs": [
    {
     "name": "stdout",
     "output_type": "stream",
     "text": [
      "Column wise Summation: [10 12]\n"
     ]
    }
   ],
   "source": [
    "print(\"Row wise wise Summation:\",np.sum(matrix1,axis=1))"
   ]
  },
  {
   "cell_type": "markdown",
   "id": "03c9663b",
   "metadata": {},
   "source": [
    "The matlib package in NumPy is a module that provides functions for creating and manipulating matrices. It primarily offers functions for creating matrices with specific properties, such as identity matrices, zero matrices, and ones matrices. It's a part of NumPy's submodule numpy.matlib."
   ]
  },
  {
   "cell_type": "markdown",
   "id": "236af692",
   "metadata": {},
   "source": [
    "# empty() function"
   ]
  },
  {
   "cell_type": "code",
   "execution_count": 2,
   "id": "33ef0492",
   "metadata": {},
   "outputs": [
    {
     "name": "stdout",
     "output_type": "stream",
     "text": [
      "[[ 7.68983922e-271 -5.26772531e+127  3.94814797e+180]\n",
      " [ 1.13477778e+118  2.77734204e+180  1.76525020e+267]]\n"
     ]
    }
   ],
   "source": [
    "import numpy as np\n",
    "import numpy.matlib\n",
    "\n",
    "mat = np.matlib.empty((2,3))\n",
    "print(mat)"
   ]
  },
  {
   "cell_type": "code",
   "execution_count": 3,
   "id": "8c8ce166",
   "metadata": {},
   "outputs": [
    {
     "name": "stdout",
     "output_type": "stream",
     "text": [
      "[[7.68983922e-271 5.26772531e+127]\n",
      " [3.94814797e+180 1.13477778e+118]\n",
      " [2.77734204e+180 1.76525020e+267]]\n"
     ]
    }
   ],
   "source": [
    "mat1 = np.matlib.empty((3,2))\n",
    "print(mat1)"
   ]
  },
  {
   "cell_type": "markdown",
   "id": "e1ca4f9c",
   "metadata": {},
   "source": [
    "# zeros() function"
   ]
  },
  {
   "cell_type": "code",
   "execution_count": 5,
   "id": "770b5353",
   "metadata": {},
   "outputs": [
    {
     "data": {
      "text/plain": [
       "matrix([[0., 0., 0.],\n",
       "        [0., 0., 0.],\n",
       "        [0., 0., 0.]])"
      ]
     },
     "execution_count": 5,
     "metadata": {},
     "output_type": "execute_result"
    }
   ],
   "source": [
    "mat2 = np.matlib.zeros((3,3))\n",
    "mat2"
   ]
  },
  {
   "cell_type": "markdown",
   "id": "d47b5a1d",
   "metadata": {},
   "source": [
    "# ones() function"
   ]
  },
  {
   "cell_type": "code",
   "execution_count": 6,
   "id": "5a381118",
   "metadata": {},
   "outputs": [
    {
     "data": {
      "text/plain": [
       "matrix([[1., 1., 1.],\n",
       "        [1., 1., 1.],\n",
       "        [1., 1., 1.]])"
      ]
     },
     "execution_count": 6,
     "metadata": {},
     "output_type": "execute_result"
    }
   ],
   "source": [
    "mat3 = np.matlib.ones((3,3))\n",
    "mat3"
   ]
  },
  {
   "cell_type": "markdown",
   "id": "b1011eb6",
   "metadata": {},
   "source": [
    "# eye() function\n"
   ]
  },
  {
   "cell_type": "code",
   "execution_count": 9,
   "id": "6cde9e82",
   "metadata": {},
   "outputs": [
    {
     "data": {
      "text/plain": [
       "matrix([[1., 0., 0.],\n",
       "        [0., 1., 0.],\n",
       "        [0., 0., 1.]])"
      ]
     },
     "execution_count": 9,
     "metadata": {},
     "output_type": "execute_result"
    }
   ],
   "source": [
    "mat4 = np.matlib.eye(3,3)\n",
    "mat4"
   ]
  },
  {
   "cell_type": "code",
   "execution_count": 11,
   "id": "664edc9f",
   "metadata": {},
   "outputs": [
    {
     "data": {
      "text/plain": [
       "matrix([[0., 1., 0., 0., 0., 0.],\n",
       "        [0., 0., 1., 0., 0., 0.],\n",
       "        [0., 0., 0., 1., 0., 0.],\n",
       "        [0., 0., 0., 0., 1., 0.],\n",
       "        [0., 0., 0., 0., 0., 1.],\n",
       "        [0., 0., 0., 0., 0., 0.]])"
      ]
     },
     "execution_count": 11,
     "metadata": {},
     "output_type": "execute_result"
    }
   ],
   "source": [
    "mat4 = np.matlib.eye(6,6,k=1)\n",
    "mat4"
   ]
  },
  {
   "cell_type": "code",
   "execution_count": 13,
   "id": "beeff887",
   "metadata": {},
   "outputs": [
    {
     "data": {
      "text/plain": [
       "matrix([[0., 0., 0., 0., 0., 0.],\n",
       "        [1., 0., 0., 0., 0., 0.],\n",
       "        [0., 1., 0., 0., 0., 0.],\n",
       "        [0., 0., 1., 0., 0., 0.],\n",
       "        [0., 0., 0., 1., 0., 0.],\n",
       "        [0., 0., 0., 0., 1., 0.]])"
      ]
     },
     "execution_count": 13,
     "metadata": {},
     "output_type": "execute_result"
    }
   ],
   "source": [
    "mat5 = np.matlib.eye(6,6,k=-1)\n",
    "mat5"
   ]
  },
  {
   "cell_type": "code",
   "execution_count": 15,
   "id": "f2fcd905",
   "metadata": {},
   "outputs": [
    {
     "data": {
      "text/plain": [
       "matrix([[1., 0., 0., 0., 0.],\n",
       "        [0., 1., 0., 0., 0.],\n",
       "        [0., 0., 1., 0., 0.],\n",
       "        [0., 0., 0., 1., 0.],\n",
       "        [0., 0., 0., 0., 1.]])"
      ]
     },
     "execution_count": 15,
     "metadata": {},
     "output_type": "execute_result"
    }
   ],
   "source": [
    "mat6 = np.matlib.identity(5)\n",
    "mat6"
   ]
  },
  {
   "cell_type": "markdown",
   "id": "f138015d",
   "metadata": {},
   "source": [
    "# Vector Multiplication"
   ]
  },
  {
   "cell_type": "markdown",
   "id": "edcb33f7",
   "metadata": {},
   "source": [
    "Scalar Product\n",
    "Dot Product\n",
    "Cross Product"
   ]
  },
  {
   "cell_type": "markdown",
   "id": "0817b2b4",
   "metadata": {},
   "source": [
    "Scalar Multiplication:\n",
    "Scalar multiplication can be represented by multiplying a scalar quantity by all the elements in the vector matrix."
   ]
  },
  {
   "cell_type": "code",
   "execution_count": 17,
   "id": "3f4f09ad",
   "metadata": {},
   "outputs": [
    {
     "name": "stdout",
     "output_type": "stream",
     "text": [
      "[[ 5  5]\n",
      " [10 10]]\n"
     ]
    }
   ],
   "source": [
    "scalar = 5\n",
    "matrix = np.array([[1,1],[2,2]])\n",
    "pro = scalar * matrix\n",
    "print(pro)"
   ]
  },
  {
   "cell_type": "code",
   "execution_count": 19,
   "id": "e2c785eb",
   "metadata": {},
   "outputs": [
    {
     "name": "stdout",
     "output_type": "stream",
     "text": [
      "4\n"
     ]
    }
   ],
   "source": [
    "mat1 = np.array([1,2])\n",
    "mat2 = np.array([2,1])\n",
    "print(np.dot(mat1,mat2))"
   ]
  },
  {
   "cell_type": "code",
   "execution_count": 23,
   "id": "b7365d04",
   "metadata": {},
   "outputs": [
    {
     "name": "stdout",
     "output_type": "stream",
     "text": [
      "-3\n"
     ]
    }
   ],
   "source": [
    "mat1 = np.array([1,2])\n",
    "mat2 = np.array([2,1])\n",
    "print(np.cross(mat1,mat2))"
   ]
  },
  {
   "cell_type": "code",
   "execution_count": 25,
   "id": "24f6de9e",
   "metadata": {},
   "outputs": [
    {
     "name": "stdout",
     "output_type": "stream",
     "text": [
      "4\n"
     ]
    }
   ],
   "source": [
    "mat1 = np.array([1,2])\n",
    "mat2 = np.array([2,1])\n",
    "print(mat1  @mat2)\n",
    "# same as dot product"
   ]
  },
  {
   "cell_type": "markdown",
   "id": "2b6bfd9b",
   "metadata": {},
   "source": [
    "# Numpy np.eigvals() method"
   ]
  },
  {
   "cell_type": "markdown",
   "id": "010014f5",
   "metadata": {},
   "source": [
    "With the help of np.eigvals() method, we can get the eigen values of a matrix by using np.eigvals() method."
   ]
  },
  {
   "cell_type": "code",
   "execution_count": 33,
   "id": "e66d968f",
   "metadata": {},
   "outputs": [
    {
     "data": {
      "text/plain": [
       "array([ 3., -1.])"
      ]
     },
     "execution_count": 33,
     "metadata": {},
     "output_type": "execute_result"
    }
   ],
   "source": [
    "from numpy import linalg\n",
    "eigen_values=np.linalg.eigvals([[1,2],[2,1]])\n",
    "eigen_values"
   ]
  },
  {
   "cell_type": "markdown",
   "id": "ec42820d",
   "metadata": {},
   "source": [
    "# Calculate the determinant of a matrix using NumPy"
   ]
  },
  {
   "cell_type": "code",
   "execution_count": 39,
   "id": "1e91daae",
   "metadata": {},
   "outputs": [
    {
     "name": "stdout",
     "output_type": "stream",
     "text": [
      "0\n"
     ]
    }
   ],
   "source": [
    "matrix = np.array([[1,2,3],[4,5,6],[7,8,9]])\n",
    "determinent =np.linalg.det(matrix)\n",
    "print(int(determinent))"
   ]
  },
  {
   "cell_type": "code",
   "execution_count": 36,
   "id": "4a628ed8",
   "metadata": {},
   "outputs": [
    {
     "name": "stdout",
     "output_type": "stream",
     "text": [
      "1330\n"
     ]
    }
   ],
   "source": [
    "matrix = np.array([[50, 29], [30, 44]])\n",
    "determinent =np.linalg.det(matrix)\n",
    "print(int(determinent))"
   ]
  },
  {
   "cell_type": "markdown",
   "id": "4a6bea7c",
   "metadata": {},
   "source": [
    "# NumPy Matrix transpose()"
   ]
  },
  {
   "cell_type": "code",
   "execution_count": 43,
   "id": "0cd2f737",
   "metadata": {},
   "outputs": [
    {
     "data": {
      "text/plain": [
       "array([[1, 2, 3],\n",
       "       [4, 5, 6],\n",
       "       [7, 8, 9]])"
      ]
     },
     "execution_count": 43,
     "metadata": {},
     "output_type": "execute_result"
    }
   ],
   "source": [
    "matrix = np.arange(1,10).reshape(3,3)\n",
    "matrix"
   ]
  },
  {
   "cell_type": "code",
   "execution_count": 44,
   "id": "f2a8176b",
   "metadata": {},
   "outputs": [
    {
     "data": {
      "text/plain": [
       "array([[1, 4, 7],\n",
       "       [2, 5, 8],\n",
       "       [3, 6, 9]])"
      ]
     },
     "execution_count": 44,
     "metadata": {},
     "output_type": "execute_result"
    }
   ],
   "source": [
    "matrix.T"
   ]
  },
  {
   "cell_type": "markdown",
   "id": "7288b905",
   "metadata": {},
   "source": [
    "mat2= np.arange(30,39).reshape(3,3)\n",
    "mat2"
   ]
  },
  {
   "cell_type": "code",
   "execution_count": 56,
   "id": "1b6a48ae",
   "metadata": {},
   "outputs": [
    {
     "data": {
      "text/plain": [
       "array([[30, 33, 36],\n",
       "       [31, 34, 37],\n",
       "       [32, 35, 38]])"
      ]
     },
     "execution_count": 56,
     "metadata": {},
     "output_type": "execute_result"
    }
   ],
   "source": [
    "new_mat = mat2.transpose()\n",
    "new_mat"
   ]
  },
  {
   "cell_type": "markdown",
   "id": "cc02efff",
   "metadata": {},
   "source": [
    "# Numpy matrix.var()"
   ]
  },
  {
   "cell_type": "markdown",
   "id": "7b75ad3e",
   "metadata": {},
   "source": [
    "With the help of Numpy matrix.var() method, we can find the variance of a matrix by using the matrix.var() method."
   ]
  },
  {
   "cell_type": "code",
   "execution_count": 57,
   "id": "37f32ed3",
   "metadata": {},
   "outputs": [
    {
     "name": "stdout",
     "output_type": "stream",
     "text": [
      "17.5\n"
     ]
    }
   ],
   "source": [
    "\n",
    "# make matrix with numpy \n",
    "gmat= np.matrix('[4, 1; 12, 3]')\n",
    "# applying matrix.var() method \n",
    "gmat = gmat.var() \n",
    "\n",
    "print(gmat) \n"
   ]
  },
  {
   "cell_type": "markdown",
   "id": "9cd92ed2",
   "metadata": {},
   "source": [
    "# inverse of a matrix using NumPy"
   ]
  },
  {
   "cell_type": "code",
   "execution_count": 66,
   "id": "0b867c69",
   "metadata": {},
   "outputs": [],
   "source": [
    "a1 = np.array([[4,3],[8,3]])\n",
    "a2= np.arange(80,89).reshape(3,3)\n",
    "a2 =a2.T"
   ]
  },
  {
   "cell_type": "code",
   "execution_count": 67,
   "id": "66f585ae",
   "metadata": {},
   "outputs": [
    {
     "data": {
      "text/plain": [
       "array([[-0.25      ,  0.25      ],\n",
       "       [ 0.66666667, -0.33333333]])"
      ]
     },
     "execution_count": 67,
     "metadata": {},
     "output_type": "execute_result"
    }
   ],
   "source": [
    "inverse_matrix1 = np.linalg.inv(a1)\n",
    "inverse_matrix1"
   ]
  },
  {
   "cell_type": "code",
   "execution_count": 71,
   "id": "34f77ccc",
   "metadata": {},
   "outputs": [
    {
     "data": {
      "text/plain": [
       "array([[-3.51843721e+13,  7.03687442e+13, -3.51843721e+13],\n",
       "       [ 7.03687442e+13, -1.40737488e+14,  7.03687442e+13],\n",
       "       [-3.51843721e+13,  7.03687442e+13, -3.51843721e+13]])"
      ]
     },
     "execution_count": 71,
     "metadata": {},
     "output_type": "execute_result"
    }
   ],
   "source": [
    "inverse_matrix2 = np.linalg.inv(a2)\n",
    "inverse_matrix2"
   ]
  },
  {
   "cell_type": "code",
   "execution_count": null,
   "id": "45a60d7b",
   "metadata": {},
   "outputs": [],
   "source": []
  }
 ],
 "metadata": {
  "kernelspec": {
   "display_name": "Python 3 (ipykernel)",
   "language": "python",
   "name": "python3"
  },
  "language_info": {
   "codemirror_mode": {
    "name": "ipython",
    "version": 3
   },
   "file_extension": ".py",
   "mimetype": "text/x-python",
   "name": "python",
   "nbconvert_exporter": "python",
   "pygments_lexer": "ipython3",
   "version": "3.11.5"
  }
 },
 "nbformat": 4,
 "nbformat_minor": 5
}
