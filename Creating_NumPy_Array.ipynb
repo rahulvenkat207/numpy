{
 "cells": [
  {
   "cell_type": "markdown",
   "id": "ec560c5b",
   "metadata": {},
   "source": [
    "# Array creation using numpy methods "
   ]
  },
  {
   "cell_type": "code",
   "execution_count": 1,
   "id": "4cbb5c9f",
   "metadata": {},
   "outputs": [],
   "source": [
    "import numpy as np"
   ]
  },
  {
   "cell_type": "markdown",
   "id": "508152dc",
   "metadata": {},
   "source": [
    "numpy.empty(shape, dtype = float, order = ‘C’) : Return a new array of given shape and type, with random values.\n",
    "\n"
   ]
  },
  {
   "cell_type": "code",
   "execution_count": 9,
   "id": "558aa4a9",
   "metadata": {},
   "outputs": [
    {
     "name": "stdout",
     "output_type": "stream",
     "text": [
      "[ 927103479103710267 7421608289154976779]\n"
     ]
    }
   ],
   "source": [
    "a1 = np.empty(2,dtype=np.int64)\n",
    "print(a1)"
   ]
  },
  {
   "cell_type": "code",
   "execution_count": 10,
   "id": "52893a9e",
   "metadata": {},
   "outputs": [
    {
     "name": "stdout",
     "output_type": "stream",
     "text": [
      "[[            0 2872679297232]\n",
      " [2872673854576 2872673616032]]\n"
     ]
    }
   ],
   "source": [
    "a2 = np.empty([2,2],dtype= np.int64)\n",
    "print(a2)"
   ]
  },
  {
   "cell_type": "code",
   "execution_count": 11,
   "id": "05da5a6d",
   "metadata": {},
   "outputs": [
    {
     "name": "stdout",
     "output_type": "stream",
     "text": [
      "[[        0         1         0]\n",
      " [      668      1544         0]\n",
      " [      768       668 170816372]]\n"
     ]
    }
   ],
   "source": [
    "a3 = np.empty([3,3],dtype= np.int32)\n",
    "print(a3)"
   ]
  },
  {
   "cell_type": "markdown",
   "id": "26125eba",
   "metadata": {},
   "source": [
    "numpy.zeros(shape, dtype = None, order = ‘C’) : Return a new array of given shape and type, with zeros."
   ]
  },
  {
   "cell_type": "code",
   "execution_count": 14,
   "id": "4e9940fa",
   "metadata": {},
   "outputs": [
    {
     "data": {
      "text/plain": [
       "array([0, 0])"
      ]
     },
     "execution_count": 14,
     "metadata": {},
     "output_type": "execute_result"
    }
   ],
   "source": [
    "a4 = np.zeros(2,dtype=int)\n",
    "a4"
   ]
  },
  {
   "cell_type": "code",
   "execution_count": 15,
   "id": "3d1898b9",
   "metadata": {},
   "outputs": [
    {
     "data": {
      "text/plain": [
       "array([[0, 0],\n",
       "       [0, 0]])"
      ]
     },
     "execution_count": 15,
     "metadata": {},
     "output_type": "execute_result"
    }
   ],
   "source": [
    "a5 = np.zeros([2,2],dtype = int)\n",
    "a5"
   ]
  },
  {
   "cell_type": "code",
   "execution_count": 17,
   "id": "fa43cdbe",
   "metadata": {},
   "outputs": [
    {
     "data": {
      "text/plain": [
       "array([[0., 0., 0.],\n",
       "       [0., 0., 0.],\n",
       "       [0., 0., 0.]])"
      ]
     },
     "execution_count": 17,
     "metadata": {},
     "output_type": "execute_result"
    }
   ],
   "source": [
    "a6 = np.zeros([3,3],dtype = float)\n",
    "a6"
   ]
  },
  {
   "cell_type": "markdown",
   "id": "dafc3284",
   "metadata": {},
   "source": [
    "numpy.reshape(array, shape, order = ‘C’) : Shapes an array without changing data of array."
   ]
  },
  {
   "cell_type": "code",
   "execution_count": 23,
   "id": "f23212a2",
   "metadata": {},
   "outputs": [
    {
     "data": {
      "text/plain": [
       "array([0, 1, 2, 3, 4, 5, 6, 7])"
      ]
     },
     "execution_count": 23,
     "metadata": {},
     "output_type": "execute_result"
    }
   ],
   "source": [
    "arr = np.arange(0,8,1)\n",
    "arr"
   ]
  },
  {
   "cell_type": "code",
   "execution_count": 36,
   "id": "29bafff8",
   "metadata": {},
   "outputs": [
    {
     "data": {
      "text/plain": [
       "array([[0, 1, 2, 3],\n",
       "       [4, 5, 6, 7]])"
      ]
     },
     "execution_count": 36,
     "metadata": {},
     "output_type": "execute_result"
    }
   ],
   "source": [
    "new_array = arr.reshape(2,4)\n",
    "new_array"
   ]
  },
  {
   "cell_type": "code",
   "execution_count": 37,
   "id": "1ca54d2d",
   "metadata": {},
   "outputs": [
    {
     "data": {
      "text/plain": [
       "array([[0, 1],\n",
       "       [2, 3],\n",
       "       [4, 5],\n",
       "       [6, 7]])"
      ]
     },
     "execution_count": 37,
     "metadata": {},
     "output_type": "execute_result"
    }
   ],
   "source": [
    "new_array1 = arr.reshape(4,2)\n",
    "new_array1"
   ]
  },
  {
   "cell_type": "code",
   "execution_count": 38,
   "id": "445d4b15",
   "metadata": {},
   "outputs": [
    {
     "data": {
      "text/plain": [
       "array([[[0, 1],\n",
       "        [2, 3]],\n",
       "\n",
       "       [[4, 5],\n",
       "        [6, 7]]])"
      ]
     },
     "execution_count": 38,
     "metadata": {},
     "output_type": "execute_result"
    }
   ],
   "source": [
    "new_array2 =np.arange(8).reshape(2,2,2)\n",
    "new_array2"
   ]
  },
  {
   "cell_type": "markdown",
   "id": "659e8cfd",
   "metadata": {},
   "source": [
    "arange([start,] stop[, step,][, dtype]) : Returns an array with evenly spaced elements as per the interval. The interval mentioned is half opened i.e. [Start, Stop)\n",
    "\n",
    "The advantage of numpy.arange() over the normal in-built range() function is that it allows us to generate sequences of numbers that are not integers."
   ]
  },
  {
   "cell_type": "code",
   "execution_count": 43,
   "id": "01d11a97",
   "metadata": {},
   "outputs": [
    {
     "data": {
      "text/plain": [
       "array([0. , 0.1, 0.2, 0.3, 0.4, 0.5, 0.6, 0.7, 0.8, 0.9])"
      ]
     },
     "execution_count": 43,
     "metadata": {},
     "output_type": "execute_result"
    }
   ],
   "source": [
    "np.arange(0,1,0.1)"
   ]
  },
  {
   "cell_type": "markdown",
   "id": "9687adfd",
   "metadata": {},
   "source": [
    "Flatten array: We can use flatten method to get a copy of array collapsed into one dimension. It accepts order argument. Default value is ‘C’ (for row-major order). Use ‘F’ for column major order."
   ]
  },
  {
   "cell_type": "code",
   "execution_count": 39,
   "id": "9177d243",
   "metadata": {},
   "outputs": [
    {
     "name": "stdout",
     "output_type": "stream",
     "text": [
      "[[0 1]\n",
      " [2 3]\n",
      " [4 5]\n",
      " [6 7]]\n"
     ]
    }
   ],
   "source": [
    "print(new_array1)"
   ]
  },
  {
   "cell_type": "code",
   "execution_count": 40,
   "id": "740c6256",
   "metadata": {},
   "outputs": [
    {
     "data": {
      "text/plain": [
       "array([0, 1, 2, 3, 4, 5, 6, 7])"
      ]
     },
     "execution_count": 40,
     "metadata": {},
     "output_type": "execute_result"
    }
   ],
   "source": [
    "new_array1.flatten()"
   ]
  },
  {
   "cell_type": "code",
   "execution_count": 41,
   "id": "fb9aff18",
   "metadata": {},
   "outputs": [
    {
     "name": "stdout",
     "output_type": "stream",
     "text": [
      "[[0 1 2 3]\n",
      " [4 5 6 7]]\n"
     ]
    }
   ],
   "source": [
    "print(new_array)"
   ]
  },
  {
   "cell_type": "code",
   "execution_count": 42,
   "id": "3fc9487a",
   "metadata": {},
   "outputs": [
    {
     "data": {
      "text/plain": [
       "array([0, 1, 2, 3, 4, 5, 6, 7])"
      ]
     },
     "execution_count": 42,
     "metadata": {},
     "output_type": "execute_result"
    }
   ],
   "source": [
    "new_array.flatten()"
   ]
  },
  {
   "cell_type": "code",
   "execution_count": 48,
   "id": "9f715c43",
   "metadata": {},
   "outputs": [
    {
     "data": {
      "text/plain": [
       "array([[(0., 0), (0., 0)],\n",
       "       [(0., 0), (0., 0)]], dtype=[('x', '<f8'), ('y', '<i4')])"
      ]
     },
     "execution_count": 48,
     "metadata": {},
     "output_type": "execute_result"
    }
   ],
   "source": [
    "arr = np.zeros([2,2],dtype=[('x',float),('y',int)])\n",
    "arr"
   ]
  },
  {
   "cell_type": "code",
   "execution_count": 50,
   "id": "9e7ba865",
   "metadata": {},
   "outputs": [
    {
     "data": {
      "text/plain": [
       "array([(0., 0), (0., 0)], dtype=[('x', '<f8'), ('y', '<i4')])"
      ]
     },
     "execution_count": 50,
     "metadata": {},
     "output_type": "execute_result"
    }
   ],
   "source": [
    "arr = np.zeros(2,dtype=[('x',float),('y',int)])\n",
    "arr"
   ]
  },
  {
   "cell_type": "code",
   "execution_count": 51,
   "id": "0463a446",
   "metadata": {},
   "outputs": [
    {
     "data": {
      "text/plain": [
       "array([(0., 0), (0., 0)], dtype=[('x', '<f8'), ('y', '<i4')])"
      ]
     },
     "execution_count": 51,
     "metadata": {},
     "output_type": "execute_result"
    }
   ],
   "source": [
    "arr = np.zeros([2,],dtype=[('x',float),('y',int)])\n",
    "arr"
   ]
  },
  {
   "cell_type": "code",
   "execution_count": 52,
   "id": "2f829ce0",
   "metadata": {},
   "outputs": [
    {
     "data": {
      "text/plain": [
       "array([1, 3, 5, 7, 9])"
      ]
     },
     "execution_count": 52,
     "metadata": {},
     "output_type": "execute_result"
    }
   ],
   "source": [
    "np.arange(1,10,2)"
   ]
  },
  {
   "cell_type": "markdown",
   "id": "3741d34f",
   "metadata": {},
   "source": [
    "The NumPy.linspace() function returns an array of evenly spaced values within the specified interval [start, stop].\n",
    "\n",
    "It is similar to NumPy.arange() function but instead of a step, it uses a sample number. "
   ]
  },
  {
   "cell_type": "code",
   "execution_count": 56,
   "id": "9e58b37e",
   "metadata": {},
   "outputs": [
    {
     "data": {
      "text/plain": [
       "array([ 1.  ,  3.25,  5.5 ,  7.75, 10.  ])"
      ]
     },
     "execution_count": 56,
     "metadata": {},
     "output_type": "execute_result"
    }
   ],
   "source": [
    "np.linspace(1,10,5)"
   ]
  },
  {
   "cell_type": "markdown",
   "id": "e1c0ba9e",
   "metadata": {},
   "source": [
    "numpy.eye(R, C = None, k = 0, dtype = type <‘float’>) : –The eye tool returns a 2-D array with  1’s as the diagonal and  0’s elsewhere. The diagonal can be main, upper, or lower depending on the optional parameter k. A positive k is for the upper diagonal, a negative k is for the lower, and a  0 k (default) is for the main diagonal."
   ]
  },
  {
   "cell_type": "code",
   "execution_count": 59,
   "id": "7dc082ef",
   "metadata": {},
   "outputs": [
    {
     "data": {
      "text/plain": [
       "array([[1, 0],\n",
       "       [0, 1]])"
      ]
     },
     "execution_count": 59,
     "metadata": {},
     "output_type": "execute_result"
    }
   ],
   "source": [
    "np.eye(2,2,dtype=int)"
   ]
  },
  {
   "cell_type": "code",
   "execution_count": 60,
   "id": "75b6d365",
   "metadata": {},
   "outputs": [
    {
     "data": {
      "text/plain": [
       "array([[1., 0., 0.],\n",
       "       [0., 1., 0.],\n",
       "       [0., 0., 1.]])"
      ]
     },
     "execution_count": 60,
     "metadata": {},
     "output_type": "execute_result"
    }
   ],
   "source": [
    "np.eye(3,3,dtype=float)"
   ]
  },
  {
   "cell_type": "code",
   "execution_count": 61,
   "id": "19ef97af",
   "metadata": {},
   "outputs": [
    {
     "data": {
      "text/plain": [
       "array([[0, 1, 0, 0, 0, 0],\n",
       "       [0, 0, 1, 0, 0, 0],\n",
       "       [0, 0, 0, 1, 0, 0],\n",
       "       [0, 0, 0, 0, 1, 0],\n",
       "       [0, 0, 0, 0, 0, 1],\n",
       "       [0, 0, 0, 0, 0, 0]])"
      ]
     },
     "execution_count": 61,
     "metadata": {},
     "output_type": "execute_result"
    }
   ],
   "source": [
    "np.eye(6,6,dtype=int,k=1)"
   ]
  },
  {
   "cell_type": "code",
   "execution_count": 62,
   "id": "4640717c",
   "metadata": {},
   "outputs": [
    {
     "data": {
      "text/plain": [
       "array([[0, 0, 0, 0, 0, 0],\n",
       "       [1, 0, 0, 0, 0, 0],\n",
       "       [0, 1, 0, 0, 0, 0],\n",
       "       [0, 0, 1, 0, 0, 0],\n",
       "       [0, 0, 0, 1, 0, 0],\n",
       "       [0, 0, 0, 0, 1, 0]])"
      ]
     },
     "execution_count": 62,
     "metadata": {},
     "output_type": "execute_result"
    }
   ],
   "source": [
    "np.eye(6,6,dtype=int,k=-1)"
   ]
  },
  {
   "cell_type": "markdown",
   "id": "45c0409c",
   "metadata": {},
   "source": [
    "Random() return the random module provides various methods to create arrays filled with random values."
   ]
  },
  {
   "cell_type": "code",
   "execution_count": 75,
   "id": "9e6c9111",
   "metadata": {},
   "outputs": [
    {
     "data": {
      "text/plain": [
       "array([0.45470081, 0.49032942, 0.40108751, 0.65925701, 0.48208986])"
      ]
     },
     "execution_count": 75,
     "metadata": {},
     "output_type": "execute_result"
    }
   ],
   "source": [
    "np.random.random(5)"
   ]
  },
  {
   "cell_type": "markdown",
   "id": "514fbb52",
   "metadata": {},
   "source": [
    "Random() return the random module provides various methods to create arrays filled with random values."
   ]
  },
  {
   "cell_type": "code",
   "execution_count": 82,
   "id": "5d8a5bc7",
   "metadata": {},
   "outputs": [
    {
     "data": {
      "text/plain": [
       "array([[0.01580745, 0.80219514, 0.36878483],\n",
       "       [0.31431643, 0.19892084, 0.53300274]])"
      ]
     },
     "execution_count": 82,
     "metadata": {},
     "output_type": "execute_result"
    }
   ],
   "source": [
    "np.random.rand(2,3)"
   ]
  },
  {
   "cell_type": "markdown",
   "id": "80195af4",
   "metadata": {},
   "source": [
    "The function numpy.random.randn() is used to generate random numbers from a standard normal distribution. This distribution is also known as a Gaussian distribution or a bell curve, and has a mean of 0 and a standard deviation of 1. The random numbers generated by this function are commonly referred to as standard normal or z-scores."
   ]
  },
  {
   "cell_type": "code",
   "execution_count": 79,
   "id": "b4d6ed68",
   "metadata": {},
   "outputs": [
    {
     "data": {
      "text/plain": [
       "array([[-1.16826891, -1.14606145, -0.44256747],\n",
       "       [ 0.21553196,  2.43332801,  0.51945909]])"
      ]
     },
     "execution_count": 79,
     "metadata": {},
     "output_type": "execute_result"
    }
   ],
   "source": [
    "np.random.randn(2,3)"
   ]
  },
  {
   "cell_type": "code",
   "execution_count": 80,
   "id": "01d0bed7",
   "metadata": {},
   "outputs": [
    {
     "data": {
      "text/plain": [
       "array([ 0,  1,  4,  9, 16, 25, 36, 49])"
      ]
     },
     "execution_count": 80,
     "metadata": {},
     "output_type": "execute_result"
    }
   ],
   "source": [
    "iterable = (i*i for i in range(8))\n",
    "np.fromiter(iterable,dtype=int)"
   ]
  },
  {
   "cell_type": "markdown",
   "id": "f72718a3",
   "metadata": {},
   "source": [
    "# 1-D NumPy Array Functions"
   ]
  },
  {
   "cell_type": "markdown",
   "id": "51ed9bb9",
   "metadata": {},
   "source": [
    "numpy.max() This function return the maximum value in an array or along a specified axis."
   ]
  },
  {
   "cell_type": "code",
   "execution_count": 84,
   "id": "37de950f",
   "metadata": {},
   "outputs": [
    {
     "data": {
      "text/plain": [
       "array([  0,  50, 100, 150, 200, 250, 300, 350, 400, 450, 500, 550, 600,\n",
       "       650, 700, 750, 800, 850, 900, 950])"
      ]
     },
     "execution_count": 84,
     "metadata": {},
     "output_type": "execute_result"
    }
   ],
   "source": [
    "arr1 = np.arange(0,1000,50)\n",
    "arr1"
   ]
  },
  {
   "cell_type": "code",
   "execution_count": 85,
   "id": "9f3ab444",
   "metadata": {},
   "outputs": [
    {
     "data": {
      "text/plain": [
       "950"
      ]
     },
     "execution_count": 85,
     "metadata": {},
     "output_type": "execute_result"
    }
   ],
   "source": [
    "arr1.max()"
   ]
  },
  {
   "cell_type": "code",
   "execution_count": 86,
   "id": "e1af12e2",
   "metadata": {},
   "outputs": [
    {
     "data": {
      "text/plain": [
       "0"
      ]
     },
     "execution_count": 86,
     "metadata": {},
     "output_type": "execute_result"
    }
   ],
   "source": [
    "arr1.min()"
   ]
  },
  {
   "cell_type": "markdown",
   "id": "1899538f",
   "metadata": {},
   "source": [
    "Argmax() Function\n",
    "numpy.argmax() index of the maximum value (argmax):To find the index of the maximum value in an array."
   ]
  },
  {
   "cell_type": "code",
   "execution_count": 90,
   "id": "84aaf178",
   "metadata": {},
   "outputs": [
    {
     "data": {
      "text/plain": [
       "19"
      ]
     },
     "execution_count": 90,
     "metadata": {},
     "output_type": "execute_result"
    }
   ],
   "source": [
    "np.argmax(arr1)"
   ]
  },
  {
   "cell_type": "code",
   "execution_count": 91,
   "id": "f284e6e8",
   "metadata": {},
   "outputs": [
    {
     "data": {
      "text/plain": [
       "0"
      ]
     },
     "execution_count": 91,
     "metadata": {},
     "output_type": "execute_result"
    }
   ],
   "source": [
    "np.min(arr1)"
   ]
  },
  {
   "cell_type": "markdown",
   "id": "b92e7eba",
   "metadata": {},
   "source": [
    "Create an Empty Numpy Array\n",
    "To create an empty NumPy array, we can use the numpy.empty() function. The empty() function in NumPy is used to create an empty array with a specified shape. An empty NumPy array is an array that is initialized with arbitrary values, and its shape is determined by the user. An array in NumPy that is empty has random values as its initial values, and the user specifies how it should be shaped."
   ]
  },
  {
   "cell_type": "markdown",
   "id": "84e6e32d",
   "metadata": {},
   "source": [
    "Create a Full Numpy Array\n",
    "To create a full NumPy array, you can use the numpy.full() function. The full() function in NumPy creates an array of a given shape and fills it with a specified value. A full NumPy array is an array where all the elements have the same predefined value. This is useful when you want to initialize an array with a specific value."
   ]
  },
  {
   "cell_type": "code",
   "execution_count": 92,
   "id": "2f3a48a0",
   "metadata": {},
   "outputs": [
    {
     "data": {
      "text/plain": [
       "array([[0.01580745, 0.80219514, 0.36878483],\n",
       "       [0.31431643, 0.19892084, 0.53300274]])"
      ]
     },
     "execution_count": 92,
     "metadata": {},
     "output_type": "execute_result"
    }
   ],
   "source": [
    "np.empty((2,3))"
   ]
  },
  {
   "cell_type": "code",
   "execution_count": 93,
   "id": "dcb1fa6b",
   "metadata": {},
   "outputs": [
    {
     "data": {
      "text/plain": [
       "array([[7, 7, 7],\n",
       "       [7, 7, 7]])"
      ]
     },
     "execution_count": 93,
     "metadata": {},
     "output_type": "execute_result"
    }
   ],
   "source": [
    "np.full((2,3),7)"
   ]
  },
  {
   "cell_type": "markdown",
   "id": "9e707837",
   "metadata": {},
   "source": [
    "How to create a vector in Python using NumPy"
   ]
  },
  {
   "cell_type": "code",
   "execution_count": 96,
   "id": "cbdabeef",
   "metadata": {},
   "outputs": [
    {
     "data": {
      "text/plain": [
       "array([1, 2, 3, 4])"
      ]
     },
     "execution_count": 96,
     "metadata": {},
     "output_type": "execute_result"
    }
   ],
   "source": [
    "vec1 = np.array([1,2,3,4])\n",
    "vec1\n",
    "#horizontal vector"
   ]
  },
  {
   "cell_type": "code",
   "execution_count": 99,
   "id": "d00c06ce",
   "metadata": {},
   "outputs": [
    {
     "data": {
      "text/plain": [
       "array([[1],\n",
       "       [2],\n",
       "       [3],\n",
       "       [4]])"
      ]
     },
     "execution_count": 99,
     "metadata": {},
     "output_type": "execute_result"
    }
   ],
   "source": [
    "vec2 = np.array([[1],[2],[3],[4]])\n",
    "vec2\n",
    "#vertical Vector"
   ]
  },
  {
   "cell_type": "code",
   "execution_count": 100,
   "id": "a7b123ca",
   "metadata": {},
   "outputs": [
    {
     "data": {
      "text/plain": [
       "array([[2, 3, 4, 5],\n",
       "       [3, 4, 5, 6],\n",
       "       [4, 5, 6, 7],\n",
       "       [5, 6, 7, 8]])"
      ]
     },
     "execution_count": 100,
     "metadata": {},
     "output_type": "execute_result"
    }
   ],
   "source": [
    "np.add(vec1,vec2)"
   ]
  },
  {
   "cell_type": "code",
   "execution_count": 101,
   "id": "8eab9566",
   "metadata": {},
   "outputs": [
    {
     "data": {
      "text/plain": [
       "array([30])"
      ]
     },
     "execution_count": 101,
     "metadata": {},
     "output_type": "execute_result"
    }
   ],
   "source": [
    "vec1.dot(vec2)"
   ]
  },
  {
   "cell_type": "code",
   "execution_count": 103,
   "id": "46a13493",
   "metadata": {},
   "outputs": [
    {
     "data": {
      "text/plain": [
       "array([[ 1,  2,  3,  4],\n",
       "       [ 2,  4,  6,  8],\n",
       "       [ 3,  6,  9, 12],\n",
       "       [ 4,  8, 12, 16]])"
      ]
     },
     "execution_count": 103,
     "metadata": {},
     "output_type": "execute_result"
    }
   ],
   "source": [
    "#element wise\n",
    "vec1*vec2"
   ]
  },
  {
   "cell_type": "code",
   "execution_count": null,
   "id": "035329bf",
   "metadata": {},
   "outputs": [],
   "source": []
  }
 ],
 "metadata": {
  "kernelspec": {
   "display_name": "Python 3 (ipykernel)",
   "language": "python",
   "name": "python3"
  },
  "language_info": {
   "codemirror_mode": {
    "name": "ipython",
    "version": 3
   },
   "file_extension": ".py",
   "mimetype": "text/x-python",
   "name": "python",
   "nbconvert_exporter": "python",
   "pygments_lexer": "ipython3",
   "version": "3.11.5"
  }
 },
 "nbformat": 4,
 "nbformat_minor": 5
}
