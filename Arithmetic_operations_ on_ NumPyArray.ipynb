{
 "cells": [
  {
   "cell_type": "code",
   "execution_count": 1,
   "id": "7187dee0",
   "metadata": {},
   "outputs": [],
   "source": [
    "import numpy as np"
   ]
  },
  {
   "cell_type": "markdown",
   "id": "e81972e4",
   "metadata": {},
   "source": [
    "The term broadcasting refers to the ability of NumPy to treat arrays with different dimensions during arithmetic operations. This process involves certain rules that allow the smaller array to be ‘broadcast’ across the larger one, ensuring that they have compatible shapes for these operations."
   ]
  },
  {
   "cell_type": "code",
   "execution_count": 2,
   "id": "cd1ea9a6",
   "metadata": {},
   "outputs": [],
   "source": [
    "v = np.array([1, 2, 3])   \n",
    "w = np.array([4, 5])"
   ]
  },
  {
   "cell_type": "code",
   "execution_count": 5,
   "id": "7cace55d",
   "metadata": {},
   "outputs": [
    {
     "name": "stdout",
     "output_type": "stream",
     "text": [
      "[[ 4  5]\n",
      " [ 8 10]\n",
      " [12 15]]\n"
     ]
    }
   ],
   "source": [
    "# Outer product of vectors v and w\n",
    "print(v.reshape((3,1))*w)"
   ]
  },
  {
   "cell_type": "code",
   "execution_count": 8,
   "id": "bd2908af",
   "metadata": {},
   "outputs": [
    {
     "data": {
      "text/plain": [
       "array([[1, 2, 3],\n",
       "       [4, 5, 6]])"
      ]
     },
     "execution_count": 8,
     "metadata": {},
     "output_type": "execute_result"
    }
   ],
   "source": [
    "x = np.array([[1, 2, 3], [4, 5, 6]]) \n",
    "x"
   ]
  },
  {
   "cell_type": "code",
   "execution_count": 10,
   "id": "36475b1d",
   "metadata": {},
   "outputs": [
    {
     "data": {
      "text/plain": [
       "array([1, 2, 3])"
      ]
     },
     "execution_count": 10,
     "metadata": {},
     "output_type": "execute_result"
    }
   ],
   "source": [
    "v"
   ]
  },
  {
   "cell_type": "code",
   "execution_count": 7,
   "id": "dd73e0e6",
   "metadata": {},
   "outputs": [
    {
     "name": "stdout",
     "output_type": "stream",
     "text": [
      "[[2 4 6]\n",
      " [5 7 9]]\n"
     ]
    }
   ],
   "source": [
    "# Broadcasting vector v to matrix x \n",
    "print(x + v) \n",
    "  "
   ]
  },
  {
   "cell_type": "code",
   "execution_count": 11,
   "id": "c7c5b15b",
   "metadata": {},
   "outputs": [
    {
     "name": "stdout",
     "output_type": "stream",
     "text": [
      "[[ 5  6  7]\n",
      " [ 9 10 11]]\n"
     ]
    }
   ],
   "source": [
    "# Broadcasting vector w to the transposed matrix x \n",
    "print((x.T + w).T) "
   ]
  },
  {
   "cell_type": "code",
   "execution_count": 12,
   "id": "14539868",
   "metadata": {},
   "outputs": [
    {
     "name": "stdout",
     "output_type": "stream",
     "text": [
      "[[ 5  6  7]\n",
      " [ 9 10 11]]\n"
     ]
    }
   ],
   "source": [
    "# Reshaping vector w and broadcasting to matrix x \n",
    "print(x + np.reshape(w, (2, 1))) \n",
    "  \n"
   ]
  },
  {
   "cell_type": "code",
   "execution_count": 13,
   "id": "810cca0d",
   "metadata": {},
   "outputs": [
    {
     "name": "stdout",
     "output_type": "stream",
     "text": [
      "[[ 2  4  6]\n",
      " [ 8 10 12]]\n"
     ]
    }
   ],
   "source": [
    "# Broadcasting scalar multiplication to matrix x \n",
    "print(x * 2) "
   ]
  },
  {
   "cell_type": "markdown",
   "id": "b37a3824",
   "metadata": {},
   "source": [
    "# Estimation of Variable | set 1"
   ]
  },
  {
   "cell_type": "markdown",
   "id": "eb48c84f",
   "metadata": {},
   "source": [
    "Variability: It is the import dimension that measures the data variation i.e. whether the data is spread out or tightly clustered. Also known as Dispersion When working on data sets in Machine Learning or Data Science, involves many steps – variance measurement, reduction, and distinguishing random variability from the real one. identifying sources of real variability, making decisions regarding the pre-processing choice or model selection based on it."
   ]
  },
  {
   "cell_type": "markdown",
   "id": "4bb9fd4a",
   "metadata": {},
   "source": [
    "Terms related to Variability Metrics : \n",
    "\n",
    "-> Deviation \n",
    "-> Variance\n",
    "-> Standard Deviation\n",
    "-> Mean Absolute Deviation\n",
    "-> Median Absolute Deviation\n",
    "-> Order Statistics\n",
    "-> Range\n",
    "-> Percentile \n",
    "-> Inter-quartile Range"
   ]
  },
  {
   "cell_type": "markdown",
   "id": "2e35814c",
   "metadata": {},
   "source": [
    "Deviation: We can call it – errors or residuals also. It is the measure of how different/dispersed the values are, from the central/observed value. "
   ]
  },
  {
   "cell_type": "markdown",
   "id": "a2128905",
   "metadata": {},
   "source": [
    "Variance (s2): It is the best-known measure to estimate the variability as it is Squared Deviation. One can call it mean squared error as it is the average of standard deviation."
   ]
  },
  {
   "cell_type": "code",
   "execution_count": 17,
   "id": "da2003be",
   "metadata": {},
   "outputs": [
    {
     "name": "stdout",
     "output_type": "stream",
     "text": [
      "The variance is:  5.5555555555555545\n"
     ]
    }
   ],
   "source": [
    "sequence = [2,3,5,6,7,9]\n",
    "var =np.var(sequence)\n",
    "print(\"The variance is: \", var)"
   ]
  },
  {
   "cell_type": "markdown",
   "id": "3e6679c9",
   "metadata": {},
   "source": [
    "Sequence : [2, 3, 5, 6, 7, 9] \n",
    "Mean              = 5.33\n",
    "Total Terms, n    = 6\n",
    "Squared Deviation = (2 - 5.33)2 + (3 - 5.33)2 + (5 - 5.33)2\n",
    "                    (6 - 5.33)2 + (7 - 5.33)2 + (9 - 5.33)2\n",
    "Variance          = Squared Deviation / n"
   ]
  },
  {
   "cell_type": "code",
   "execution_count": 21,
   "id": "a0852792",
   "metadata": {},
   "outputs": [
    {
     "ename": "SyntaxError",
     "evalue": "invalid syntax (1699086611.py, line 1)",
     "output_type": "error",
     "traceback": [
      "\u001b[1;36m  Cell \u001b[1;32mIn[21], line 1\u001b[1;36m\u001b[0m\n\u001b[1;33m    Standard Deviation   = (Variance)1/2\u001b[0m\n\u001b[1;37m             ^\u001b[0m\n\u001b[1;31mSyntaxError\u001b[0m\u001b[1;31m:\u001b[0m invalid syntax\n"
     ]
    }
   ],
   "source": [
    "Standard Deviation   = (Variance)1/2"
   ]
  },
  {
   "cell_type": "markdown",
   "id": "0644fb89",
   "metadata": {},
   "source": [
    "Standard Deviation: It is the square root of Variance. Is also referred to as Euclidean Norm."
   ]
  },
  {
   "cell_type": "code",
   "execution_count": 18,
   "id": "9f9180a8",
   "metadata": {},
   "outputs": [
    {
     "data": {
      "text/plain": [
       "2.357022603955158"
      ]
     },
     "execution_count": 18,
     "metadata": {},
     "output_type": "execute_result"
    }
   ],
   "source": [
    "np.std(sequence)\n",
    "#np.sqrt(var)"
   ]
  },
  {
   "cell_type": "markdown",
   "id": "a2660609",
   "metadata": {},
   "source": [
    "Mean Absolute Deviation: One can estimate a typical estimation for these deviations. If we average the values, the negative deviations would offset the positive ones. Also, the sum of deviations from the mean is always zero. So, it is a simple approach to take the average deviation itself."
   ]
  },
  {
   "cell_type": "raw",
   "id": "0dd77b59",
   "metadata": {},
   "source": [
    "Sequence : [2, 4, 6, 8] \n",
    "Mean     = 5\n",
    "Deviation around mean = [-3, -1, 1, 3]\n",
    "\n",
    "Mean Absolute Deviation = (3 + 1 + 1 + 3)/ 4"
   ]
  },
  {
   "cell_type": "code",
   "execution_count": 23,
   "id": "3db20b1d",
   "metadata": {},
   "outputs": [
    {
     "name": "stdout",
     "output_type": "stream",
     "text": [
      "Mean Absolute Deviation :  2.0\n"
     ]
    }
   ],
   "source": [
    "def mad(data):\n",
    "    return np.mean(np.absolute(data - np.mean(data)))\n",
    "Sequence = [2, 4, 6, 8] \n",
    "\n",
    "print (\"Mean Absolute Deviation : \", mad(Sequence))\n"
   ]
  },
  {
   "cell_type": "code",
   "execution_count": 24,
   "id": "25f05bd2",
   "metadata": {},
   "outputs": [
    {
     "name": "stdout",
     "output_type": "stream",
     "text": [
      "First array:\n",
      "[[0. 1.]\n",
      " [2. 3.]]\n",
      "\n",
      "Second array:\n",
      "[12 12]\n",
      "\n",
      "Adding the two arrays:\n",
      "[[12. 13.]\n",
      " [14. 15.]]\n",
      "\n",
      "Subtracting the two arrays:\n",
      "[[-12. -11.]\n",
      " [-10.  -9.]]\n",
      "\n",
      "Multiplying the two arrays:\n",
      "[[ 0. 12.]\n",
      " [24. 36.]]\n",
      "\n",
      "Dividing the two arrays:\n",
      "[[0.         0.08333333]\n",
      " [0.16666667 0.25      ]]\n"
     ]
    }
   ],
   "source": [
    "# Initializing the array\n",
    "arr1 = np.arange(4, dtype = np.float_).reshape(2, 2) \n",
    " \n",
    "print('First array:') \n",
    "print(arr1)\n",
    " \n",
    "print('\\nSecond array:') \n",
    "arr2 = np.array([12, 12]) \n",
    "print(arr2)\n",
    " \n",
    "print('\\nAdding the two arrays:') \n",
    "print(np.add(arr1, arr2))\n",
    " \n",
    "print('\\nSubtracting the two arrays:') \n",
    "print(np.subtract(arr1, arr2))\n",
    " \n",
    "print('\\nMultiplying the two arrays:')\n",
    "print(np.multiply(arr1, arr2))\n",
    " \n",
    "print('\\nDividing the two arrays:')\n",
    "print(np.divide(arr1, arr2))"
   ]
  },
  {
   "cell_type": "code",
   "execution_count": 25,
   "id": "bb7a9ae5",
   "metadata": {},
   "outputs": [
    {
     "name": "stdout",
     "output_type": "stream",
     "text": [
      "Our array is:\n",
      "[ 25.     1.33   1.     1.   100.  ]\n",
      "\n",
      "After applying reciprocal function:\n",
      "[0.04      0.7518797 1.        1.        0.01     ]\n",
      "\n",
      "The second array is:\n",
      "[25]\n",
      "\n",
      "After applying reciprocal function:\n",
      "[0]\n"
     ]
    }
   ],
   "source": [
    "# Python code to perform reciprocal operation\n",
    "# on NumPy array\n",
    "import numpy as np \n",
    "arr = np.array([25, 1.33, 1, 1, 100]) \n",
    "\n",
    "print('Our array is:')\n",
    "print(arr)\n",
    "\n",
    "print('\\nAfter applying reciprocal function:') \n",
    "print(np.reciprocal(arr))\n",
    "\n",
    "arr2 = np.array([25], dtype = int)\n",
    "print('\\nThe second array is:')\n",
    "print(arr2)\n",
    "\n",
    "print('\\nAfter applying reciprocal function:') \n",
    "print(np.reciprocal(arr2))\n"
   ]
  },
  {
   "cell_type": "markdown",
   "id": "e1d508db",
   "metadata": {},
   "source": [
    "numpy.power() This function treats elements in the first input array as the base and returns it raised to the power of the corresponding element in the second input array."
   ]
  },
  {
   "cell_type": "code",
   "execution_count": null,
   "id": "6cfdd2e2",
   "metadata": {},
   "outputs": [],
   "source": [
    "arr = np.array([5, 10, 15]) \n",
    " \n",
    "print('First array is:') \n",
    "print(arr)\n",
    " \n",
    "print('\\nApplying power function:') \n",
    "print(np.power(arr, 2))\n",
    " \n",
    "print('\\nSecond array is:') \n",
    "arr1 = np.array([1, 2, 3]) \n",
    "print(arr1)\n",
    " \n",
    "print('\\nApplying power function again:') \n",
    "print(np.power(arr, arr1))"
   ]
  },
  {
   "cell_type": "markdown",
   "id": "d494a0e4",
   "metadata": {},
   "source": [
    "numpy.mod() This function returns the remainder of division of the corresponding elements in the input array. The function numpy.remainder() also produces the same result. "
   ]
  },
  {
   "cell_type": "code",
   "execution_count": 27,
   "id": "e216cd35",
   "metadata": {},
   "outputs": [],
   "source": [
    "arr = np.array([5, 15, 20]) \n",
    "arr1 = np.array([2, 5, 9]) "
   ]
  },
  {
   "cell_type": "code",
   "execution_count": 28,
   "id": "36da3159",
   "metadata": {},
   "outputs": [
    {
     "name": "stdout",
     "output_type": "stream",
     "text": [
      "[1 0 2]\n"
     ]
    }
   ],
   "source": [
    "print(np.mod(arr,arr1))"
   ]
  },
  {
   "cell_type": "code",
   "execution_count": 29,
   "id": "d4f1abc9",
   "metadata": {},
   "outputs": [
    {
     "name": "stdout",
     "output_type": "stream",
     "text": [
      "[1 0 2]\n"
     ]
    }
   ],
   "source": [
    "print(np.remainder(arr,arr1))"
   ]
  },
  {
   "cell_type": "code",
   "execution_count": 30,
   "id": "24f3498a",
   "metadata": {},
   "outputs": [
    {
     "name": "stdout",
     "output_type": "stream",
     "text": [
      "arr1 :  [120, 24, 42, 10]\n",
      "arr2 :  [2250, 12, 20, 50]\n",
      "\n",
      "GCD of arr1 and arr2 :  [30 12  2 10]\n",
      "\n",
      "GCD of arr1 and 10 :  [10  2  2 10]\n"
     ]
    }
   ],
   "source": [
    "# Python program illustrating \n",
    "# gcd() method \n",
    "import numpy as np \n",
    "\n",
    "arr1 = [120, 24, 42, 10] \n",
    "arr2 = [2250, 12, 20, 50] \n",
    "\n",
    "print (\"arr1 : \", arr1) \n",
    "print (\"arr2 : \", arr2) \n",
    "\n",
    "print (\"\\nGCD of arr1 and arr2 : \", np.gcd(arr1, arr2)) \n",
    "print (\"\\nGCD of arr1 and 10 : \", np.gcd(arr1, 10)) \n",
    "\t\t\n"
   ]
  },
  {
   "cell_type": "code",
   "execution_count": null,
   "id": "d2d0c36a",
   "metadata": {},
   "outputs": [],
   "source": []
  }
 ],
 "metadata": {
  "kernelspec": {
   "display_name": "Python 3 (ipykernel)",
   "language": "python",
   "name": "python3"
  },
  "language_info": {
   "codemirror_mode": {
    "name": "ipython",
    "version": 3
   },
   "file_extension": ".py",
   "mimetype": "text/x-python",
   "name": "python",
   "nbconvert_exporter": "python",
   "pygments_lexer": "ipython3",
   "version": "3.11.5"
  }
 },
 "nbformat": 4,
 "nbformat_minor": 5
}
