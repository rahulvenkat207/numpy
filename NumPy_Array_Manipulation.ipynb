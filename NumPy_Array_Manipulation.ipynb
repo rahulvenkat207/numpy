{
 "cells": [
  {
   "cell_type": "markdown",
   "id": "62b2f129",
   "metadata": {},
   "source": [
    "# NumPy Copy and View of Array"
   ]
  },
  {
   "cell_type": "markdown",
   "id": "ae76829e",
   "metadata": {},
   "source": [
    "The main difference between copy and view is that the copy is the new array whereas the view is the view of the original array. In other words, it can be said that the copy is physically stored at another location and the view has the same memory location as the original array"
   ]
  },
  {
   "cell_type": "markdown",
   "id": "bb9b9942",
   "metadata": {},
   "source": [
    "Example: Making a view and changing the original array"
   ]
  },
  {
   "cell_type": "code",
   "execution_count": 2,
   "id": "48262a1b",
   "metadata": {},
   "outputs": [],
   "source": [
    "import numpy as np"
   ]
  },
  {
   "cell_type": "code",
   "execution_count": 8,
   "id": "e12aeb96",
   "metadata": {},
   "outputs": [
    {
     "data": {
      "text/plain": [
       "array([1, 2, 3, 4])"
      ]
     },
     "execution_count": 8,
     "metadata": {},
     "output_type": "execute_result"
    }
   ],
   "source": [
    "original_array = np.array([1,2,3,4])\n",
    "original_array"
   ]
  },
  {
   "cell_type": "code",
   "execution_count": 10,
   "id": "95ae9e5e",
   "metadata": {},
   "outputs": [
    {
     "data": {
      "text/plain": [
       "array([1, 2, 3, 4])"
      ]
     },
     "execution_count": 10,
     "metadata": {},
     "output_type": "execute_result"
    }
   ],
   "source": [
    "v = original_array.view()\n",
    "v"
   ]
  },
  {
   "cell_type": "code",
   "execution_count": 11,
   "id": "6abde13d",
   "metadata": {},
   "outputs": [
    {
     "name": "stdout",
     "output_type": "stream",
     "text": [
      "2333162339664\n",
      "2333144575952\n"
     ]
    }
   ],
   "source": [
    "print(id(original_array))\n",
    "print(id(v))\n",
    "# both ori and v have different id "
   ]
  },
  {
   "cell_type": "code",
   "execution_count": 12,
   "id": "43122f0f",
   "metadata": {},
   "outputs": [
    {
     "name": "stdout",
     "output_type": "stream",
     "text": [
      "[122   2   3   4]\n",
      "[122   2   3   4]\n"
     ]
    }
   ],
   "source": [
    "original_array[0]=122\n",
    "print(original_array)\n",
    "print(v)\n",
    "# changing original array \n",
    "# this will effect view"
   ]
  },
  {
   "cell_type": "markdown",
   "id": "d9c1a212",
   "metadata": {},
   "source": [
    "Copy of Array in NumPy\n",
    "The copy is completely a new array and the copy owns the data. "
   ]
  },
  {
   "cell_type": "code",
   "execution_count": 14,
   "id": "70c8681d",
   "metadata": {},
   "outputs": [
    {
     "data": {
      "text/plain": [
       "array([122,   2,   3,   4])"
      ]
     },
     "execution_count": 14,
     "metadata": {},
     "output_type": "execute_result"
    }
   ],
   "source": [
    "cop = np.copy(original_array)\n",
    "cop"
   ]
  },
  {
   "cell_type": "code",
   "execution_count": 16,
   "id": "a3ea721c",
   "metadata": {},
   "outputs": [
    {
     "name": "stdout",
     "output_type": "stream",
     "text": [
      "2333157371280\n",
      "2333162339664\n"
     ]
    }
   ],
   "source": [
    "print(id(cop))\n",
    "print(id(original_array))"
   ]
  },
  {
   "cell_type": "code",
   "execution_count": 19,
   "id": "120ea141",
   "metadata": {},
   "outputs": [
    {
     "name": "stdout",
     "output_type": "stream",
     "text": [
      "[122   2   3   0]\n",
      "[122   2   3   4]\n"
     ]
    }
   ],
   "source": [
    "original_array[3] = 0\n",
    "print(original_array)\n",
    "print(cop)\n",
    "# changing original array \n",
    "# this will not effect copy"
   ]
  },
  {
   "cell_type": "markdown",
   "id": "31c4e2af",
   "metadata": {},
   "source": [
    "# How to Copy NumPy array into another array?"
   ]
  },
  {
   "cell_type": "code",
   "execution_count": 22,
   "id": "feee3b00",
   "metadata": {},
   "outputs": [
    {
     "data": {
      "text/plain": [
       "array([[1, 2, 3],\n",
       "       [4, 5, 6]])"
      ]
     },
     "execution_count": 22,
     "metadata": {},
     "output_type": "execute_result"
    }
   ],
   "source": [
    "ori = np.array([[1,2,3],\n",
    "              [4,5,6]])\n",
    "ori"
   ]
  },
  {
   "cell_type": "code",
   "execution_count": 23,
   "id": "f0c4ca2e",
   "metadata": {},
   "outputs": [
    {
     "data": {
      "text/plain": [
       "array([[1, 2, 3],\n",
       "       [4, 5, 6]])"
      ]
     },
     "execution_count": 23,
     "metadata": {},
     "output_type": "execute_result"
    }
   ],
   "source": [
    "copy = np.copy(ori)\n",
    "copy"
   ]
  },
  {
   "cell_type": "markdown",
   "id": "0cc9fafd",
   "metadata": {},
   "source": [
    "# Appending values at the end of an NumPy array"
   ]
  },
  {
   "cell_type": "markdown",
   "id": "4dcc2bb7",
   "metadata": {},
   "source": [
    "For this task, we can use numpy.append() and numpy.concatenate(). This function can help us to append a single value as well as multiple values at the end of the array."
   ]
  },
  {
   "cell_type": "markdown",
   "id": "8ea3684c",
   "metadata": {},
   "source": [
    "Appending a Single Value to a 1D Array"
   ]
  },
  {
   "cell_type": "code",
   "execution_count": 28,
   "id": "2ab116e3",
   "metadata": {},
   "outputs": [
    {
     "data": {
      "text/plain": [
       "array([1, 2, 3, 4])"
      ]
     },
     "execution_count": 28,
     "metadata": {},
     "output_type": "execute_result"
    }
   ],
   "source": [
    "a1 = np.array([1,2,3,4])\n",
    "a1"
   ]
  },
  {
   "cell_type": "code",
   "execution_count": 29,
   "id": "6899e9db",
   "metadata": {},
   "outputs": [
    {
     "data": {
      "text/plain": [
       "array([1, 2, 3, 4, 7])"
      ]
     },
     "execution_count": 29,
     "metadata": {},
     "output_type": "execute_result"
    }
   ],
   "source": [
    "a1 = np.append(a1,[7])\n",
    "a1"
   ]
  },
  {
   "cell_type": "markdown",
   "id": "65a907de",
   "metadata": {},
   "source": [
    "Appending Another Array at the End of a 1D Array"
   ]
  },
  {
   "cell_type": "code",
   "execution_count": 31,
   "id": "9a2c8ff8",
   "metadata": {},
   "outputs": [
    {
     "data": {
      "text/plain": [
       "array([  1,   2,   3,   4,   7,   8,   9,  10, 100])"
      ]
     },
     "execution_count": 31,
     "metadata": {},
     "output_type": "execute_result"
    }
   ],
   "source": [
    "a2 = np.array([8,9,10,100])\n",
    "a3 = np.append(a1,a2)\n",
    "a3"
   ]
  },
  {
   "cell_type": "markdown",
   "id": "7353afa8",
   "metadata": {},
   "source": [
    "Appending Values at the End Using Concatenation\n"
   ]
  },
  {
   "cell_type": "code",
   "execution_count": 32,
   "id": "32d6f34b",
   "metadata": {},
   "outputs": [
    {
     "data": {
      "text/plain": [
       "array([[1, 2, 3],\n",
       "       [4, 5, 6]])"
      ]
     },
     "execution_count": 32,
     "metadata": {},
     "output_type": "execute_result"
    }
   ],
   "source": [
    "arr1 = np.array([[1,2,3],\n",
    "                [4,5,6]])\n",
    "arr1"
   ]
  },
  {
   "cell_type": "code",
   "execution_count": 34,
   "id": "d0739aa3",
   "metadata": {},
   "outputs": [
    {
     "name": "stdout",
     "output_type": "stream",
     "text": [
      "[[1 2 3]\n",
      " [4 5 6]\n",
      " [7 8 9]]\n"
     ]
    }
   ],
   "source": [
    "arr2 = np.array([[7,8,9]])\n",
    "combined = np.concatenate((arr1,arr2),axis = 0)\n",
    "print(combined)"
   ]
  },
  {
   "cell_type": "code",
   "execution_count": 53,
   "id": "079bcd29",
   "metadata": {},
   "outputs": [
    {
     "data": {
      "text/plain": [
       "array([[ 1,  2,  3,  4,  5,  6],\n",
       "       [ 7,  8,  9, 10, 11, 12]])"
      ]
     },
     "execution_count": 53,
     "metadata": {},
     "output_type": "execute_result"
    }
   ],
   "source": [
    "array = np.arange(1,13,1).reshape(2,6)\n",
    "array"
   ]
  },
  {
   "cell_type": "code",
   "execution_count": 59,
   "id": "c37def96",
   "metadata": {},
   "outputs": [
    {
     "name": "stdout",
     "output_type": "stream",
     "text": [
      "(1, 6)\n",
      "[[ 1  2  3  4  5  6]\n",
      " [ 7  8  9 10 11 12]\n",
      " [13 14 15 16 17 18]]\n"
     ]
    }
   ],
   "source": [
    "#Column\n",
    "col = np.arange(13,19).reshape(1,6)\n",
    "print(col.shape)\n",
    "col_arr = np.append(array,col,axis=0)\n",
    "print(col_arr)\n"
   ]
  },
  {
   "cell_type": "code",
   "execution_count": 61,
   "id": "e2fcf8c2",
   "metadata": {},
   "outputs": [
    {
     "data": {
      "text/plain": [
       "array([[ 1,  2,  3,  4,  5,  6,  1],\n",
       "       [ 7,  8,  9, 10, 11, 12, 11]])"
      ]
     },
     "execution_count": 61,
     "metadata": {},
     "output_type": "execute_result"
    }
   ],
   "source": [
    "#Row-Wise\n",
    "row =np.array([1,11]).reshape(2,1)\n",
    "row_arr = np.append(array,row,axis = 1)\n",
    "row_arr"
   ]
  },
  {
   "cell_type": "markdown",
   "id": "07a970a1",
   "metadata": {},
   "source": [
    "# How to swap columns of a given NumPy array?"
   ]
  },
  {
   "cell_type": "code",
   "execution_count": 65,
   "id": "d8510b1d",
   "metadata": {},
   "outputs": [
    {
     "data": {
      "text/plain": [
       "array([[ 1,  2,  3],\n",
       "       [ 4,  5,  6],\n",
       "       [ 7,  8,  9],\n",
       "       [10, 11, 12]])"
      ]
     },
     "execution_count": 65,
     "metadata": {},
     "output_type": "execute_result"
    }
   ],
   "source": [
    "my_array = np.arange(1,13).reshape(4,3)\n",
    "my_array"
   ]
  },
  {
   "cell_type": "code",
   "execution_count": 66,
   "id": "bad27bf0",
   "metadata": {},
   "outputs": [
    {
     "data": {
      "text/plain": [
       "array([[ 3,  2,  1],\n",
       "       [ 6,  5,  4],\n",
       "       [ 9,  8,  7],\n",
       "       [12, 11, 10]])"
      ]
     },
     "execution_count": 66,
     "metadata": {},
     "output_type": "execute_result"
    }
   ],
   "source": [
    "#Column swapping\n",
    "my_array[:,[2,0]] = my_array[:,[0,2]]\n",
    "my_array"
   ]
  },
  {
   "cell_type": "code",
   "execution_count": 67,
   "id": "892b4f0c",
   "metadata": {},
   "outputs": [
    {
     "data": {
      "text/plain": [
       "array([[ 2,  3,  1],\n",
       "       [ 5,  6,  4],\n",
       "       [ 8,  9,  7],\n",
       "       [11, 12, 10]])"
      ]
     },
     "execution_count": 67,
     "metadata": {},
     "output_type": "execute_result"
    }
   ],
   "source": [
    "my_array[:,[1,0]]=my_array[:,[0,1]]\n",
    "my_array"
   ]
  },
  {
   "cell_type": "code",
   "execution_count": 70,
   "id": "3fff6b41",
   "metadata": {},
   "outputs": [
    {
     "data": {
      "text/plain": [
       "array([[11, 12, 10],\n",
       "       [ 5,  6,  4],\n",
       "       [ 8,  9,  7],\n",
       "       [ 2,  3,  1]])"
      ]
     },
     "execution_count": 70,
     "metadata": {},
     "output_type": "execute_result"
    }
   ],
   "source": [
    "my_array[[3,0],:]=my_array[[0,3],:]\n",
    "my_array"
   ]
  },
  {
   "cell_type": "markdown",
   "id": "2f3bb58e",
   "metadata": {},
   "source": [
    "# Insert a new axis within a NumPy array"
   ]
  },
  {
   "cell_type": "markdown",
   "id": "3b69af52",
   "metadata": {},
   "source": [
    "1D array will become 2D array\n",
    "2D array will become 3D array\n",
    "3D array will become 4D array\n",
    "4D array will become 5D array"
   ]
  },
  {
   "cell_type": "markdown",
   "id": "e9ade039",
   "metadata": {},
   "source": [
    "Using numpy.expand_dims()"
   ]
  },
  {
   "cell_type": "code",
   "execution_count": 71,
   "id": "67978cbb",
   "metadata": {},
   "outputs": [
    {
     "name": "stdout",
     "output_type": "stream",
     "text": [
      "(3, 1, 4)\n"
     ]
    }
   ],
   "source": [
    "x = np.zeros((3, 4))\n",
    "y = np.expand_dims(x, axis=1).shape\n",
    "print(y)\n"
   ]
  },
  {
   "cell_type": "markdown",
   "id": "51c47f67",
   "metadata": {},
   "source": [
    "# numpy.hstack() in Python"
   ]
  },
  {
   "cell_type": "markdown",
   "id": "5f51d87c",
   "metadata": {},
   "source": [
    "numpy.hstack() function is used to stack the sequence of input arrays horizontally (i.e. column wise) to make a single array."
   ]
  },
  {
   "cell_type": "code",
   "execution_count": 76,
   "id": "bf3660b7",
   "metadata": {},
   "outputs": [
    {
     "data": {
      "text/plain": [
       "array([1, 2, 3, 4, 5, 6, 7, 8])"
      ]
     },
     "execution_count": 76,
     "metadata": {},
     "output_type": "execute_result"
    }
   ],
   "source": [
    "arr1 = np.array([1,2,3,4])\n",
    "arr2 = np.array([5,6,7,8])\n",
    "new_array = np.hstack((arr1,arr2))\n",
    "new_array"
   ]
  },
  {
   "cell_type": "code",
   "execution_count": 81,
   "id": "504c6672",
   "metadata": {},
   "outputs": [
    {
     "data": {
      "text/plain": [
       "array([[ 1,  2,  3,  4,  9, 10, 11, 12],\n",
       "       [ 5,  6,  7,  8, 13, 14, 15, 16]])"
      ]
     },
     "execution_count": 81,
     "metadata": {},
     "output_type": "execute_result"
    }
   ],
   "source": [
    "arr1 = np.array([[1,2,3,4],\n",
    "               [5,6,7,8]])\n",
    "arr2 = np.array([[9,10,11,12],\n",
    "               [13,14,15,16]])\n",
    "new_array = np.hstack((arr1,arr2))\n",
    "new_array"
   ]
  },
  {
   "cell_type": "markdown",
   "id": "c69b8dbc",
   "metadata": {},
   "source": [
    "# numpy.vstack() in python"
   ]
  },
  {
   "cell_type": "code",
   "execution_count": 82,
   "id": "8b78a9a9",
   "metadata": {},
   "outputs": [
    {
     "data": {
      "text/plain": [
       "array([[ 1,  2,  3,  4],\n",
       "       [ 5,  6,  7,  8],\n",
       "       [ 9, 10, 11, 12],\n",
       "       [13, 14, 15, 16]])"
      ]
     },
     "execution_count": 82,
     "metadata": {},
     "output_type": "execute_result"
    }
   ],
   "source": [
    "arr1 = np.array([[1,2,3,4],\n",
    "               [5,6,7,8]])\n",
    "arr2 = np.array([[9,10,11,12],\n",
    "               [13,14,15,16]])\n",
    "new_array = np.vstack((arr1,arr2))\n",
    "new_array"
   ]
  },
  {
   "cell_type": "markdown",
   "id": "32b2287a",
   "metadata": {},
   "source": [
    "# Joining NumPy Array"
   ]
  },
  {
   "cell_type": "code",
   "execution_count": 85,
   "id": "da1825a8",
   "metadata": {},
   "outputs": [
    {
     "data": {
      "text/plain": [
       "array([[ 1,  2,  3],\n",
       "       [ 7,  8,  9],\n",
       "       [ 4,  5,  6],\n",
       "       [10, 11, 12]])"
      ]
     },
     "execution_count": 85,
     "metadata": {},
     "output_type": "execute_result"
    }
   ],
   "source": [
    "array_1 = np.array([[1,2,3],[7,8,9]])\n",
    "array_2 = np.array([[4,5,6],[10,11,12]])\n",
    "new_array = np.concatenate((array_1,array_2),axis =0)\n",
    "new_array"
   ]
  },
  {
   "cell_type": "code",
   "execution_count": 86,
   "id": "f7424b21",
   "metadata": {},
   "outputs": [
    {
     "data": {
      "text/plain": [
       "array([[ 1,  2,  3,  4,  5,  6],\n",
       "       [ 7,  8,  9, 10, 11, 12]])"
      ]
     },
     "execution_count": 86,
     "metadata": {},
     "output_type": "execute_result"
    }
   ],
   "source": [
    "array_1 = np.array([[1,2,3],[7,8,9]])\n",
    "array_2 = np.array([[4,5,6],[10,11,12]])\n",
    "new_array = np.concatenate((array_1,array_2),axis =1)\n",
    "new_array"
   ]
  },
  {
   "cell_type": "markdown",
   "id": "f8de4e05",
   "metadata": {},
   "source": [
    "Method 2: Using numpy.stack()\n",
    "\n",
    "The stack() function of NumPy joins two or more arrays along a new axis."
   ]
  },
  {
   "cell_type": "code",
   "execution_count": 89,
   "id": "9219f85c",
   "metadata": {},
   "outputs": [
    {
     "data": {
      "text/plain": [
       "array([[[ 1,  2,  3],\n",
       "        [ 4,  5,  6]],\n",
       "\n",
       "       [[ 7,  8,  9],\n",
       "        [10, 11, 12]]])"
      ]
     },
     "execution_count": 89,
     "metadata": {},
     "output_type": "execute_result"
    }
   ],
   "source": [
    "array_1 = np.array([[1,2,3],[7,8,9]])\n",
    "array_2 = np.array([[4,5,6],[10,11,12]])\n",
    "new_array = np.stack((array_1,array_2),axis =1)\n",
    "new_array"
   ]
  },
  {
   "cell_type": "code",
   "execution_count": 90,
   "id": "9e0f040b",
   "metadata": {},
   "outputs": [
    {
     "data": {
      "text/plain": [
       "array([[[ 1,  2,  3],\n",
       "        [ 7,  8,  9]],\n",
       "\n",
       "       [[ 4,  5,  6],\n",
       "        [10, 11, 12]]])"
      ]
     },
     "execution_count": 90,
     "metadata": {},
     "output_type": "execute_result"
    }
   ],
   "source": [
    "array_1 = np.array([[1,2,3],[7,8,9]])\n",
    "array_2 = np.array([[4,5,6],[10,11,12]])\n",
    "new_array = np.stack((array_1,array_2),axis =0)\n",
    "new_array"
   ]
  },
  {
   "cell_type": "markdown",
   "id": "a412abe5",
   "metadata": {},
   "source": [
    " Numpy dstack() method\n",
    "With the help of numpy.dstack() method, we can get the combined array index by index and store like a stack by using numpy.dstack() method."
   ]
  },
  {
   "cell_type": "code",
   "execution_count": 91,
   "id": "69b7d795",
   "metadata": {},
   "outputs": [
    {
     "data": {
      "text/plain": [
       "array([[[ 1,  4],\n",
       "        [ 2,  5],\n",
       "        [ 3,  6]],\n",
       "\n",
       "       [[ 7, 10],\n",
       "        [ 8, 11],\n",
       "        [ 9, 12]]])"
      ]
     },
     "execution_count": 91,
     "metadata": {},
     "output_type": "execute_result"
    }
   ],
   "source": [
    "array_1 = np.array([[1,2,3],[7,8,9]])\n",
    "array_2 = np.array([[4,5,6],[10,11,12]])\n",
    "new_array = np.dstack((array_1,array_2))\n",
    "new_array"
   ]
  },
  {
   "cell_type": "markdown",
   "id": "8bf7920b",
   "metadata": {},
   "source": [
    "# NumPy Splitting Array"
   ]
  },
  {
   "cell_type": "markdown",
   "id": "da6f9826",
   "metadata": {},
   "source": [
    "The split(), hsplit(), vsplit(), and dsplit() functions are important tools for dividing arrays along various axes and dimensions. "
   ]
  },
  {
   "cell_type": "code",
   "execution_count": 92,
   "id": "86de33b8",
   "metadata": {},
   "outputs": [
    {
     "data": {
      "text/plain": [
       "array([1, 2, 3, 4, 5, 6])"
      ]
     },
     "execution_count": 92,
     "metadata": {},
     "output_type": "execute_result"
    }
   ],
   "source": [
    "array = np.arange(1,7)\n",
    "array"
   ]
  },
  {
   "cell_type": "code",
   "execution_count": 95,
   "id": "479a748d",
   "metadata": {},
   "outputs": [
    {
     "data": {
      "text/plain": [
       "[array([1, 2]), array([3, 4]), array([5, 6])]"
      ]
     },
     "execution_count": 95,
     "metadata": {},
     "output_type": "execute_result"
    }
   ],
   "source": [
    "arr = np.array_split(array,3)\n",
    "arr"
   ]
  },
  {
   "cell_type": "markdown",
   "id": "2222f203",
   "metadata": {},
   "source": [
    "# Splitting NumPy Arrays in Python"
   ]
  },
  {
   "cell_type": "markdown",
   "id": "5283f94b",
   "metadata": {},
   "source": [
    "1. Splitting Arrays Into Equal Parts using numpy.split()"
   ]
  },
  {
   "cell_type": "code",
   "execution_count": 96,
   "id": "8e7edd99",
   "metadata": {},
   "outputs": [
    {
     "data": {
      "text/plain": [
       "[array([1, 2]), array([3, 4]), array([5, 6])]"
      ]
     },
     "execution_count": 96,
     "metadata": {},
     "output_type": "execute_result"
    }
   ],
   "source": [
    "arr"
   ]
  },
  {
   "cell_type": "code",
   "execution_count": 98,
   "id": "f18f01b0",
   "metadata": {},
   "outputs": [
    {
     "data": {
      "text/plain": [
       "[array([1, 2, 3]), array([4, 5, 6])]"
      ]
     },
     "execution_count": 98,
     "metadata": {},
     "output_type": "execute_result"
    }
   ],
   "source": [
    "array = np.array([1,2,3,4,5,6])\n",
    "np.split(array,2)"
   ]
  },
  {
   "cell_type": "code",
   "execution_count": 99,
   "id": "8a486a08",
   "metadata": {},
   "outputs": [
    {
     "data": {
      "text/plain": [
       "[array([1, 2]), array([3, 4]), array([5, 6])]"
      ]
     },
     "execution_count": 99,
     "metadata": {},
     "output_type": "execute_result"
    }
   ],
   "source": [
    "np.split(array,3)"
   ]
  },
  {
   "cell_type": "markdown",
   "id": "2c4145f2",
   "metadata": {},
   "source": [
    "2. Unequal Splitting of Arrays using numpy.array_split()"
   ]
  },
  {
   "cell_type": "code",
   "execution_count": 101,
   "id": "7433024b",
   "metadata": {},
   "outputs": [
    {
     "data": {
      "text/plain": [
       "array([ 0,  1,  2,  3,  4,  5,  6,  7,  8,  9, 10, 11, 12, 13])"
      ]
     },
     "execution_count": 101,
     "metadata": {},
     "output_type": "execute_result"
    }
   ],
   "source": [
    "array = np.arange(14)\n",
    "array"
   ]
  },
  {
   "cell_type": "code",
   "execution_count": 102,
   "id": "6e4d04d3",
   "metadata": {},
   "outputs": [
    {
     "data": {
      "text/plain": [
       "[array([0, 1, 2, 3]),\n",
       " array([4, 5, 6, 7]),\n",
       " array([ 8,  9, 10]),\n",
       " array([11, 12, 13])]"
      ]
     },
     "execution_count": 102,
     "metadata": {},
     "output_type": "execute_result"
    }
   ],
   "source": [
    "np.array_split(array,4)"
   ]
  },
  {
   "cell_type": "markdown",
   "id": "da03d90a",
   "metadata": {},
   "source": [
    "3. Splitting NumPy 2D Arrays"
   ]
  },
  {
   "cell_type": "code",
   "execution_count": 106,
   "id": "85450209",
   "metadata": {},
   "outputs": [
    {
     "data": {
      "text/plain": [
       "array([[ 1,  2,  3],\n",
       "       [ 4,  5,  6],\n",
       "       [ 7,  8,  9],\n",
       "       [10, 11, 12]])"
      ]
     },
     "execution_count": 106,
     "metadata": {},
     "output_type": "execute_result"
    }
   ],
   "source": [
    "array = np.arange(1,13).reshape(4,3)\n",
    "array"
   ]
  },
  {
   "cell_type": "code",
   "execution_count": 109,
   "id": "a4339c9f",
   "metadata": {},
   "outputs": [
    {
     "data": {
      "text/plain": [
       "[array([[1, 2, 3],\n",
       "        [4, 5, 6]]),\n",
       " array([[ 7,  8,  9],\n",
       "        [10, 11, 12]])]"
      ]
     },
     "execution_count": 109,
     "metadata": {},
     "output_type": "execute_result"
    }
   ],
   "source": [
    "np.split(array,2,axis=0)"
   ]
  },
  {
   "cell_type": "code",
   "execution_count": 110,
   "id": "ad962554",
   "metadata": {},
   "outputs": [
    {
     "data": {
      "text/plain": [
       "[array([[ 1,  2],\n",
       "        [ 4,  5],\n",
       "        [ 7,  8],\n",
       "        [10, 11]]),\n",
       " array([[ 3],\n",
       "        [ 6],\n",
       "        [ 9],\n",
       "        [12]])]"
      ]
     },
     "execution_count": 110,
     "metadata": {},
     "output_type": "execute_result"
    }
   ],
   "source": [
    "np.array_split(array,2,axis=1)"
   ]
  },
  {
   "cell_type": "markdown",
   "id": "c8e013f6",
   "metadata": {},
   "source": [
    "4. Vertical Splitting of Arrays using numpy.vsplit(). It split first dimension"
   ]
  },
  {
   "cell_type": "code",
   "execution_count": 133,
   "id": "52ed7f7f",
   "metadata": {},
   "outputs": [
    {
     "data": {
      "text/plain": [
       "array([[ 1,  2,  3],\n",
       "       [ 4,  5,  6],\n",
       "       [ 7,  8,  9],\n",
       "       [10, 11, 12]])"
      ]
     },
     "execution_count": 133,
     "metadata": {},
     "output_type": "execute_result"
    }
   ],
   "source": [
    "array = np.arange(1,13).reshape(4,3)\n",
    "array"
   ]
  },
  {
   "cell_type": "code",
   "execution_count": 134,
   "id": "f9478cd1",
   "metadata": {},
   "outputs": [
    {
     "data": {
      "text/plain": [
       "(4, 3)"
      ]
     },
     "execution_count": 134,
     "metadata": {},
     "output_type": "execute_result"
    }
   ],
   "source": [
    "array.shape"
   ]
  },
  {
   "cell_type": "code",
   "execution_count": 135,
   "id": "9560fdbd",
   "metadata": {},
   "outputs": [
    {
     "data": {
      "text/plain": [
       "[array([[1, 2, 3],\n",
       "        [4, 5, 6]]),\n",
       " array([[ 7,  8,  9],\n",
       "        [10, 11, 12]])]"
      ]
     },
     "execution_count": 135,
     "metadata": {},
     "output_type": "execute_result"
    }
   ],
   "source": [
    "np.vsplit(array,2)"
   ]
  },
  {
   "cell_type": "code",
   "execution_count": 136,
   "id": "3c733cef",
   "metadata": {},
   "outputs": [
    {
     "data": {
      "text/plain": [
       "array([[ 1,  2,  3],\n",
       "       [ 4,  5,  6],\n",
       "       [ 7,  8,  9],\n",
       "       [10, 11, 12]])"
      ]
     },
     "execution_count": 136,
     "metadata": {},
     "output_type": "execute_result"
    }
   ],
   "source": [
    "array = np.arange(1,13).reshape(4,3)\n",
    "array\n"
   ]
  },
  {
   "cell_type": "code",
   "execution_count": 137,
   "id": "424232f5",
   "metadata": {},
   "outputs": [
    {
     "data": {
      "text/plain": [
       "(4, 1)"
      ]
     },
     "execution_count": 137,
     "metadata": {},
     "output_type": "execute_result"
    }
   ],
   "source": [
    "row = np.array([13,14,15,16]).reshape(4,1)\n",
    "row.shape\n"
   ]
  },
  {
   "cell_type": "code",
   "execution_count": 138,
   "id": "c949897d",
   "metadata": {},
   "outputs": [
    {
     "name": "stdout",
     "output_type": "stream",
     "text": [
      "[[ 1  2  3 13]\n",
      " [ 4  5  6 14]\n",
      " [ 7  8  9 15]\n",
      " [10 11 12 16]]\n",
      "(4, 4)\n"
     ]
    }
   ],
   "source": [
    "new_array = np.append(array,row,axis = 1)\n",
    "print(new_array)\n",
    "print(new_array.shape)"
   ]
  },
  {
   "cell_type": "markdown",
   "id": "ca9159c7",
   "metadata": {},
   "source": [
    "5. Horizontal Splitting of Arrays using numpy.hsplit() . ->it split second dimension"
   ]
  },
  {
   "cell_type": "code",
   "execution_count": 139,
   "id": "70fbf553",
   "metadata": {},
   "outputs": [
    {
     "data": {
      "text/plain": [
       "[array([[ 1,  2],\n",
       "        [ 4,  5],\n",
       "        [ 7,  8],\n",
       "        [10, 11]]),\n",
       " array([[ 3, 13],\n",
       "        [ 6, 14],\n",
       "        [ 9, 15],\n",
       "        [12, 16]])]"
      ]
     },
     "execution_count": 139,
     "metadata": {},
     "output_type": "execute_result"
    }
   ],
   "source": [
    "np.hsplit(new_array,2)"
   ]
  },
  {
   "cell_type": "markdown",
   "id": "a18d6ae1",
   "metadata": {},
   "source": [
    "How to compare two NumPy arrays?"
   ]
  },
  {
   "cell_type": "code",
   "execution_count": 140,
   "id": "97479a8d",
   "metadata": {},
   "outputs": [
    {
     "name": "stdout",
     "output_type": "stream",
     "text": [
      "Array a:  [101  99  87]\n",
      "Array b:  [897  97 111]\n",
      "a > b\n",
      "[False  True False]\n",
      "a >= b\n",
      "[False  True False]\n",
      "a < b\n",
      "[ True False  True]\n",
      "a <= b\n",
      "[ True False  True]\n"
     ]
    }
   ],
   "source": [
    "import numpy as np\n",
    "\n",
    "\n",
    "a = np.array([101, 99, 87])\n",
    "b = np.array([897, 97, 111])\n",
    "\n",
    "print(\"Array a: \", a)\n",
    "print(\"Array b: \", b)\n",
    "\n",
    "print(\"a > b\")\n",
    "print(np.greater(a, b))\n",
    "\n",
    "print(\"a >= b\")\n",
    "print(np.greater_equal(a, b))\n",
    "\n",
    "print(\"a < b\")\n",
    "print(np.less(a, b))\n",
    "\n",
    "print(\"a <= b\")\n",
    "print(np.less_equal(a, b))\n"
   ]
  },
  {
   "cell_type": "markdown",
   "id": "3b2ba050",
   "metadata": {},
   "source": [
    "# Find the union of two NumPy arrays"
   ]
  },
  {
   "cell_type": "markdown",
   "id": "be1568e1",
   "metadata": {},
   "source": [
    "To find union of two 1-dimensional arrays we can use function numpy.union1d() of Python Numpy library. It returns unique, sorted array with values that are in either of the two input arrays."
   ]
  },
  {
   "cell_type": "code",
   "execution_count": 142,
   "id": "bf653cb7",
   "metadata": {},
   "outputs": [
    {
     "data": {
      "text/plain": [
       "array([1, 2, 3, 4, 5, 6, 7])"
      ]
     },
     "execution_count": 142,
     "metadata": {},
     "output_type": "execute_result"
    }
   ],
   "source": [
    "x = np.arange(1,4)\n",
    "y = np.arange(4,8)\n",
    "np.union1d(x,y)"
   ]
  },
  {
   "cell_type": "markdown",
   "id": "dc43fcb9",
   "metadata": {},
   "source": [
    "# Numpy np.unique() method"
   ]
  },
  {
   "cell_type": "markdown",
   "id": "b6c7bb9e",
   "metadata": {},
   "source": [
    "With the help of np.unique() method, we can get the unique values from an array given as parameter in np.unique() method."
   ]
  },
  {
   "cell_type": "code",
   "execution_count": 149,
   "id": "a879a7af",
   "metadata": {},
   "outputs": [
    {
     "data": {
      "text/plain": [
       "array([1, 2, 3, 4, 1, 6, 2, 6])"
      ]
     },
     "execution_count": 149,
     "metadata": {},
     "output_type": "execute_result"
    }
   ],
   "source": [
    "z = np.array([1,2,3,4,1,6,2,6])\n",
    "z"
   ]
  },
  {
   "cell_type": "code",
   "execution_count": 150,
   "id": "276ad064",
   "metadata": {},
   "outputs": [
    {
     "data": {
      "text/plain": [
       "array([1, 2, 3, 4, 6])"
      ]
     },
     "execution_count": 150,
     "metadata": {},
     "output_type": "execute_result"
    }
   ],
   "source": [
    "np.unique(z)"
   ]
  },
  {
   "cell_type": "code",
   "execution_count": null,
   "id": "aa3250a4",
   "metadata": {},
   "outputs": [],
   "source": []
  },
  {
   "cell_type": "code",
   "execution_count": null,
   "id": "abd1a2d5",
   "metadata": {},
   "outputs": [],
   "source": []
  }
 ],
 "metadata": {
  "kernelspec": {
   "display_name": "Python 3 (ipykernel)",
   "language": "python",
   "name": "python3"
  },
  "language_info": {
   "codemirror_mode": {
    "name": "ipython",
    "version": 3
   },
   "file_extension": ".py",
   "mimetype": "text/x-python",
   "name": "python",
   "nbconvert_exporter": "python",
   "pygments_lexer": "ipython3",
   "version": "3.11.5"
  }
 },
 "nbformat": 4,
 "nbformat_minor": 5
}
