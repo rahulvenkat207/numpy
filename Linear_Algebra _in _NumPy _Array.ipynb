{
 "cells": [
  {
   "cell_type": "code",
   "execution_count": 4,
   "id": "ca216c39",
   "metadata": {},
   "outputs": [],
   "source": [
    "import numpy as np\n",
    "from numpy import linalg"
   ]
  },
  {
   "cell_type": "code",
   "execution_count": 2,
   "id": "76a44a5a",
   "metadata": {},
   "outputs": [],
   "source": [
    "A = np.array([[6, 1, 1],\n",
    "              [4, -2, 5],\n",
    "              [2, 8, 7]])"
   ]
  },
  {
   "cell_type": "code",
   "execution_count": 3,
   "id": "3b5612ce",
   "metadata": {},
   "outputs": [
    {
     "data": {
      "text/plain": [
       "array([[ 6,  1,  1],\n",
       "       [ 4, -2,  5],\n",
       "       [ 2,  8,  7]])"
      ]
     },
     "execution_count": 3,
     "metadata": {},
     "output_type": "execute_result"
    }
   ],
   "source": [
    "A"
   ]
  },
  {
   "cell_type": "markdown",
   "id": "dc4695c7",
   "metadata": {},
   "source": [
    "# rank, determinant, trace, etc. of an array."
   ]
  },
  {
   "cell_type": "code",
   "execution_count": 5,
   "id": "3a074b05",
   "metadata": {},
   "outputs": [
    {
     "name": "stdout",
     "output_type": "stream",
     "text": [
      "Rank of the matrix 3\n"
     ]
    }
   ],
   "source": [
    "print(\"Rank of the matrix\",np.linalg.matrix_rank(A))"
   ]
  },
  {
   "cell_type": "code",
   "execution_count": 9,
   "id": "e6cad4e1",
   "metadata": {},
   "outputs": [
    {
     "name": "stdout",
     "output_type": "stream",
     "text": [
      "Determinant of the matrix -306\n"
     ]
    }
   ],
   "source": [
    "print(\"Determinant of the matrix\",int(np.linalg.det(A)))"
   ]
  },
  {
   "cell_type": "code",
   "execution_count": 10,
   "id": "e265954c",
   "metadata": {},
   "outputs": [
    {
     "name": "stdout",
     "output_type": "stream",
     "text": [
      "Inverse of the matrix [[ 0.17647059 -0.00326797 -0.02287582]\n",
      " [ 0.05882353 -0.13071895  0.08496732]\n",
      " [-0.11764706  0.1503268   0.05228758]]\n"
     ]
    }
   ],
   "source": [
    "print(\"Inverse of the matrix\\n\",np.linalg.inv(A))"
   ]
  },
  {
   "cell_type": "code",
   "execution_count": 12,
   "id": "4d89a9bb",
   "metadata": {},
   "outputs": [
    {
     "name": "stdout",
     "output_type": "stream",
     "text": [
      "Inverse of the matrix\n",
      " 11\n"
     ]
    }
   ],
   "source": [
    "print(\"Trace of the matrix\\n\",np.trace(A))"
   ]
  },
  {
   "cell_type": "code",
   "execution_count": 16,
   "id": "77dc07d1",
   "metadata": {},
   "outputs": [
    {
     "name": "stdout",
     "output_type": "stream",
     "text": [
      "Squaring this matrix:  [[42 12 18]\n",
      " [26 48 29]\n",
      " [58 42 91]]\n"
     ]
    }
   ],
   "source": [
    "print(\"Raised to power 2 \",np.linalg.matrix_power(A,2))"
   ]
  },
  {
   "cell_type": "markdown",
   "id": "93f1f114",
   "metadata": {},
   "source": [
    "# Matrix eigenvalues Functions"
   ]
  },
  {
   "cell_type": "code",
   "execution_count": 17,
   "id": "9e025e98",
   "metadata": {},
   "outputs": [
    {
     "data": {
      "text/plain": [
       "(array([-7.15957544,  4.56008699, 13.59948845]),\n",
       " array([[ 0.192948  , -0.86902847, -0.45558818],\n",
       "        [-0.86570993,  0.06778288, -0.49593528],\n",
       "        [ 0.46186296,  0.49009693, -0.739248  ]]))"
      ]
     },
     "execution_count": 17,
     "metadata": {},
     "output_type": "execute_result"
    }
   ],
   "source": [
    "np.linalg.eigh(A)"
   ]
  },
  {
   "cell_type": "markdown",
   "id": "2fee926d",
   "metadata": {},
   "source": [
    "# the magnitude of a vector in NumPy"
   ]
  },
  {
   "cell_type": "code",
   "execution_count": 32,
   "id": "b2c47b87",
   "metadata": {},
   "outputs": [
    {
     "data": {
      "text/plain": [
       "array([1, 2, 3])"
      ]
     },
     "execution_count": 32,
     "metadata": {},
     "output_type": "execute_result"
    }
   ],
   "source": [
    "vec = np.array([1,2,3])\n",
    "vec"
   ]
  },
  {
   "cell_type": "code",
   "execution_count": 33,
   "id": "eb30e06e",
   "metadata": {},
   "outputs": [
    {
     "data": {
      "text/plain": [
       "3.7416573867739413"
      ]
     },
     "execution_count": 33,
     "metadata": {},
     "output_type": "execute_result"
    }
   ],
   "source": [
    "np.linalg.norm(vec)"
   ]
  },
  {
   "cell_type": "code",
   "execution_count": 34,
   "id": "ab11ee32",
   "metadata": {},
   "outputs": [
    {
     "name": "stdout",
     "output_type": "stream",
     "text": [
      "Printing the Original square array:\n",
      " [[1 2 3]\n",
      " [2 3 4]\n",
      " [4 5 6]]\n"
     ]
    }
   ],
   "source": [
    "m = np.array([[1, 2, 3], \n",
    "              [2, 3, 4], \n",
    "              [4, 5, 6]]) \n",
    "  \n",
    "print(\"Printing the Original square array:\\n\", \n",
    "      m) \n",
    "  \n",
    "# finding eigenvalues and eigenvectors \n",
    "w, v = np.linalg.eig(m) "
   ]
  },
  {
   "cell_type": "code",
   "execution_count": 35,
   "id": "187653a3",
   "metadata": {},
   "outputs": [
    {
     "name": "stdout",
     "output_type": "stream",
     "text": [
      "Eigen Values:  [ 1.08309519e+01 -8.30951895e-01 -3.58709921e-16]\n"
     ]
    }
   ],
   "source": [
    "print(\"Eigen Values: \",w)"
   ]
  },
  {
   "cell_type": "code",
   "execution_count": 36,
   "id": "90000a88",
   "metadata": {},
   "outputs": [
    {
     "name": "stdout",
     "output_type": "stream",
     "text": [
      "Eigen Vecorts:   [[ 0.34416959  0.72770285  0.40824829]\n",
      " [ 0.49532111  0.27580256 -0.81649658]\n",
      " [ 0.79762415 -0.62799801  0.40824829]]\n"
     ]
    }
   ],
   "source": [
    "print(\"Eigen Vecorts:  \",v)"
   ]
  },
  {
   "cell_type": "code",
   "execution_count": null,
   "id": "5c144eca",
   "metadata": {},
   "outputs": [],
   "source": []
  }
 ],
 "metadata": {
  "kernelspec": {
   "display_name": "Python 3 (ipykernel)",
   "language": "python",
   "name": "python3"
  },
  "language_info": {
   "codemirror_mode": {
    "name": "ipython",
    "version": 3
   },
   "file_extension": ".py",
   "mimetype": "text/x-python",
   "name": "python",
   "nbconvert_exporter": "python",
   "pygments_lexer": "ipython3",
   "version": "3.11.5"
  }
 },
 "nbformat": 4,
 "nbformat_minor": 5
}
