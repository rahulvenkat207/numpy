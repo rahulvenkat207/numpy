{
 "cells": [
  {
   "cell_type": "code",
   "execution_count": null,
   "id": "a500282f",
   "metadata": {},
   "outputs": [],
   "source": []
  },
  {
   "cell_type": "code",
   "execution_count": 1,
   "id": "d3a7b3bd",
   "metadata": {},
   "outputs": [],
   "source": [
    "import cv2"
   ]
  },
  {
   "cell_type": "code",
   "execution_count": 2,
   "id": "5fa69b69",
   "metadata": {},
   "outputs": [],
   "source": [
    "import numpy as np"
   ]
  },
  {
   "cell_type": "code",
   "execution_count": 3,
   "id": "33310869",
   "metadata": {},
   "outputs": [],
   "source": [
    "# creating an array using np.full  \n",
    "# 255 is code for white color \n",
    "array_created = np.full((500, 500, 3), \n",
    "                        255, dtype = np.uint8) \n",
    "  \n",
    "# displaying the image \n",
    "cv2.imshow(\"image\", array_created)"
   ]
  },
  {
   "cell_type": "code",
   "execution_count": 4,
   "id": "170bac6a",
   "metadata": {},
   "outputs": [
    {
     "name": "stdout",
     "output_type": "stream",
     "text": [
      "<class 'numpy.ndarray'>\n",
      "(737280,)\n",
      "(1024, 720)\n",
      "[[  0   1   2 ... 205 206 207]\n",
      " [208 209 210 ... 157 158 159]\n",
      " [160 161 162 ... 109 110 111]\n",
      " ...\n",
      " [144 145 146 ...  93  94  95]\n",
      " [ 96  97  98 ...  45  46  47]\n",
      " [ 48  49  50 ... 253 254 255]]\n"
     ]
    }
   ],
   "source": [
    "# Python program to convert \n",
    "# numpy array to image \n",
    "\n",
    "# import required libraries \n",
    "import numpy as np \n",
    "from PIL import Image as im \n",
    "\n",
    "# define a main function \n",
    "def main(): \n",
    "\n",
    "    # create a numpy array from scratch\n",
    "    # using arange function. \n",
    "    # 1024x720 = 737280 is the amount \n",
    "        # of pixels. \n",
    "    # np.uint8 is a data type containing \n",
    "    # numbers ranging from 0 to 255 \n",
    "    # and no non-negative integers \n",
    "    array = np.arange(0, 737280, 1, np.uint8) \n",
    "\n",
    "    # check type of array \n",
    "    print(type(array)) \n",
    "\n",
    "    # our array will be of width \n",
    "    # 737280 pixels That means it \n",
    "    # will be a long dark line \n",
    "    print(array.shape) \n",
    "\n",
    "    # Reshape the array into a \n",
    "    # familiar resoluition \n",
    "    array = np.reshape(array, (1024, 720)) \n",
    "\n",
    "    # show the shape of the array \n",
    "    print(array.shape) \n",
    "\n",
    "    # show the array \n",
    "    print(array) \n",
    "\n",
    "    # creating image object of \n",
    "    # above array \n",
    "    data = im.fromarray(array) \n",
    "\n",
    "    # saving the final output \n",
    "    # as a PNG file \n",
    "    data.save('gfg_dummy_pic.png') \n",
    "\n",
    "# driver code \n",
    "if __name__ == \"__main__\": \n",
    "\n",
    "# function call \n",
    "  main() \n"
   ]
  },
  {
   "cell_type": "code",
   "execution_count": null,
   "id": "0c252984",
   "metadata": {},
   "outputs": [],
   "source": []
  }
 ],
 "metadata": {
  "kernelspec": {
   "display_name": "Python 3 (ipykernel)",
   "language": "python",
   "name": "python3"
  },
  "language_info": {
   "codemirror_mode": {
    "name": "ipython",
    "version": 3
   },
   "file_extension": ".py",
   "mimetype": "text/x-python",
   "name": "python",
   "nbconvert_exporter": "python",
   "pygments_lexer": "ipython3",
   "version": "3.11.5"
  }
 },
 "nbformat": 4,
 "nbformat_minor": 5
}
