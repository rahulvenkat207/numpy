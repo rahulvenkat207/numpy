{
 "cells": [
  {
   "cell_type": "code",
   "execution_count": 2,
   "id": "a6ed6837",
   "metadata": {},
   "outputs": [],
   "source": [
    "import numpy as np"
   ]
  },
  {
   "cell_type": "markdown",
   "id": "ee9899c0",
   "metadata": {},
   "source": [
    "Indexing a NumPy array means accessing the elements of the NumPy array at the given index.\n",
    "\n",
    "There are two types of indexing in NumPy: basic indexing and advanced indexing.\n",
    "\n",
    "Slicing a NumPy array means accessing the subset of the array. It means extracting a range of elements from the data."
   ]
  },
  {
   "cell_type": "markdown",
   "id": "20c76bda",
   "metadata": {},
   "source": [
    "# Basic Slicing and indexing -Shallow Copy"
   ]
  },
  {
   "cell_type": "code",
   "execution_count": 3,
   "id": "8d124c79",
   "metadata": {},
   "outputs": [],
   "source": [
    "array = np.arange(1,10).flatten()"
   ]
  },
  {
   "cell_type": "code",
   "execution_count": 4,
   "id": "564431e3",
   "metadata": {},
   "outputs": [
    {
     "data": {
      "text/plain": [
       "array([1, 2, 3, 4, 5, 6, 7, 8, 9])"
      ]
     },
     "execution_count": 4,
     "metadata": {},
     "output_type": "execute_result"
    }
   ],
   "source": [
    "array"
   ]
  },
  {
   "cell_type": "code",
   "execution_count": 7,
   "id": "a24346d4",
   "metadata": {},
   "outputs": [
    {
     "name": "stdout",
     "output_type": "stream",
     "text": [
      "[1 2 3 4 5 6 7 8 9]\n"
     ]
    }
   ],
   "source": [
    "print(array[:])"
   ]
  },
  {
   "cell_type": "code",
   "execution_count": 9,
   "id": "4733fba0",
   "metadata": {},
   "outputs": [
    {
     "name": "stdout",
     "output_type": "stream",
     "text": [
      "9\n"
     ]
    }
   ],
   "source": [
    "print(array[8])"
   ]
  },
  {
   "cell_type": "code",
   "execution_count": 13,
   "id": "a9813d75",
   "metadata": {},
   "outputs": [],
   "source": [
    "array = np.arange(1,10)"
   ]
  },
  {
   "cell_type": "code",
   "execution_count": 14,
   "id": "52e67102",
   "metadata": {},
   "outputs": [
    {
     "data": {
      "text/plain": [
       "array([1, 2, 3, 4, 5, 6, 7, 8, 9])"
      ]
     },
     "execution_count": 14,
     "metadata": {},
     "output_type": "execute_result"
    }
   ],
   "source": [
    "array"
   ]
  },
  {
   "cell_type": "code",
   "execution_count": 15,
   "id": "6fb2f7bf",
   "metadata": {},
   "outputs": [
    {
     "name": "stdout",
     "output_type": "stream",
     "text": [
      "[3 4 5 6 7 8]\n"
     ]
    }
   ],
   "source": [
    "print(array[2:8:1])"
   ]
  },
  {
   "cell_type": "markdown",
   "id": "e9ae985f",
   "metadata": {},
   "source": [
    "# Advanced indexing-Deep Copy"
   ]
  },
  {
   "cell_type": "code",
   "execution_count": 16,
   "id": "673be852",
   "metadata": {},
   "outputs": [],
   "source": [
    "arr = np.arange(1,21).reshape(5,4)"
   ]
  },
  {
   "cell_type": "code",
   "execution_count": 20,
   "id": "4621ad1e",
   "metadata": {},
   "outputs": [
    {
     "name": "stdout",
     "output_type": "stream",
     "text": [
      "[ 1  6 11 16]\n"
     ]
    }
   ],
   "source": [
    "print(arr[[0,1,2,3],[0,1,2,3]])"
   ]
  },
  {
   "cell_type": "code",
   "execution_count": 21,
   "id": "978df212",
   "metadata": {},
   "outputs": [
    {
     "name": "stdout",
     "output_type": "stream",
     "text": [
      "[ 80 100]\n"
     ]
    }
   ],
   "source": [
    "a = np.array([10, 40, 80, 50, 100]) \n",
    "print(a[a>50])"
   ]
  },
  {
   "cell_type": "markdown",
   "id": "2e9c0141",
   "metadata": {},
   "source": [
    "# Accessing Data Along Multiple Dimensions Arrays in Python Numpy"
   ]
  },
  {
   "cell_type": "code",
   "execution_count": 23,
   "id": "d1c51361",
   "metadata": {},
   "outputs": [
    {
     "data": {
      "text/plain": [
       "array([1, 2, 3, 4])"
      ]
     },
     "execution_count": 23,
     "metadata": {},
     "output_type": "execute_result"
    }
   ],
   "source": [
    "#1D\n",
    "arr = np.array([1,2,3,4])\n",
    "arr"
   ]
  },
  {
   "cell_type": "code",
   "execution_count": 26,
   "id": "7c9edaa9",
   "metadata": {},
   "outputs": [
    {
     "name": "stdout",
     "output_type": "stream",
     "text": [
      "The number is 3\n"
     ]
    }
   ],
   "source": [
    "print(\"The number is\",arr[2])"
   ]
  },
  {
   "cell_type": "code",
   "execution_count": 28,
   "id": "cb5b4698",
   "metadata": {},
   "outputs": [
    {
     "data": {
      "text/plain": [
       "array([[1, 2, 3],\n",
       "       [4, 5, 6],\n",
       "       [7, 8, 9]])"
      ]
     },
     "execution_count": 28,
     "metadata": {},
     "output_type": "execute_result"
    }
   ],
   "source": [
    "#2D\n",
    "arr = np.arange(1,10).reshape(3,3)\n",
    "arr"
   ]
  },
  {
   "cell_type": "code",
   "execution_count": 30,
   "id": "da8e5b1c",
   "metadata": {},
   "outputs": [
    {
     "name": "stdout",
     "output_type": "stream",
     "text": [
      "4\n"
     ]
    }
   ],
   "source": [
    "print(arr[1,0])"
   ]
  },
  {
   "cell_type": "code",
   "execution_count": 32,
   "id": "b11a4a8d",
   "metadata": {},
   "outputs": [
    {
     "name": "stdout",
     "output_type": "stream",
     "text": [
      "[3 6 9]\n"
     ]
    }
   ],
   "source": [
    "print(arr[:,2])"
   ]
  },
  {
   "cell_type": "code",
   "execution_count": 33,
   "id": "5a1e8cc0",
   "metadata": {},
   "outputs": [
    {
     "name": "stdout",
     "output_type": "stream",
     "text": [
      "[4 5 6]\n"
     ]
    }
   ],
   "source": [
    "print(arr[1,:])"
   ]
  },
  {
   "cell_type": "code",
   "execution_count": 34,
   "id": "78e96c56",
   "metadata": {},
   "outputs": [],
   "source": [
    "# 3-dimensional array \n",
    "array3D = np.array([[[ 0,  1,  2],\n",
    "                     [ 3,  4,  5],\n",
    "                     [ 6,  7,  8]],\n",
    "  \n",
    "                    [[ 9, 10, 11],\n",
    "                     [12, 13, 14],\n",
    "                     [15, 16, 17]],\n",
    " \n",
    "                    [[18, 19, 20],\n",
    "                     [21, 22, 23],\n",
    "                     [24, 25, 26]]])\n",
    " "
   ]
  },
  {
   "cell_type": "code",
   "execution_count": 35,
   "id": "38240be9",
   "metadata": {},
   "outputs": [
    {
     "name": "stdout",
     "output_type": "stream",
     "text": [
      "14\n"
     ]
    }
   ],
   "source": [
    "print(array3D[1,1,2])"
   ]
  },
  {
   "cell_type": "markdown",
   "id": "066b5dfe",
   "metadata": {},
   "source": [
    "# How to access different rows of a multidimensional "
   ]
  },
  {
   "cell_type": "code",
   "execution_count": 36,
   "id": "d817a567",
   "metadata": {},
   "outputs": [
    {
     "data": {
      "text/plain": [
       "array([[ 1,  2,  3,  4,  5],\n",
       "       [ 6,  7,  8,  9, 10],\n",
       "       [11, 12, 13, 14, 15],\n",
       "       [16, 17, 18, 19, 20]])"
      ]
     },
     "execution_count": 36,
     "metadata": {},
     "output_type": "execute_result"
    }
   ],
   "source": [
    "#2d\n",
    "array = np.arange(1,21).reshape(4,5)\n",
    "array"
   ]
  },
  {
   "cell_type": "code",
   "execution_count": 37,
   "id": "e902b9d3",
   "metadata": {},
   "outputs": [
    {
     "name": "stdout",
     "output_type": "stream",
     "text": [
      "[[ 6  7  8  9 10]\n",
      " [ 1  2  3  4  5]]\n"
     ]
    }
   ],
   "source": [
    "print(array[[0,1]])\n",
    "#print "
   ]
  },
  {
   "cell_type": "code",
   "execution_count": 40,
   "id": "fe9addda",
   "metadata": {},
   "outputs": [
    {
     "name": "stdout",
     "output_type": "stream",
     "text": [
      "2\n"
     ]
    }
   ],
   "source": [
    "print(array[0,1])"
   ]
  },
  {
   "cell_type": "code",
   "execution_count": null,
   "id": "6d8eb4ea",
   "metadata": {},
   "outputs": [],
   "source": []
  }
 ],
 "metadata": {
  "kernelspec": {
   "display_name": "Python 3 (ipykernel)",
   "language": "python",
   "name": "python3"
  },
  "language_info": {
   "codemirror_mode": {
    "name": "ipython",
    "version": 3
   },
   "file_extension": ".py",
   "mimetype": "text/x-python",
   "name": "python",
   "nbconvert_exporter": "python",
   "pygments_lexer": "ipython3",
   "version": "3.11.5"
  }
 },
 "nbformat": 4,
 "nbformat_minor": 5
}
