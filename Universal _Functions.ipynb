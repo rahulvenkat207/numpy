{
 "cells": [
  {
   "cell_type": "code",
   "execution_count": 1,
   "id": "5c26137a",
   "metadata": {},
   "outputs": [],
   "source": [
    "import numpy as np"
   ]
  },
  {
   "cell_type": "code",
   "execution_count": 2,
   "id": "5182798f",
   "metadata": {},
   "outputs": [],
   "source": [
    "angles = np.array([0, 30, 45, 60, 90, 180])"
   ]
  },
  {
   "cell_type": "code",
   "execution_count": 3,
   "id": "0ecdf17c",
   "metadata": {},
   "outputs": [
    {
     "data": {
      "text/plain": [
       "array([ 0.        , -0.98803162,  0.85090352, -0.30481062,  0.89399666,\n",
       "       -0.80115264])"
      ]
     },
     "execution_count": 3,
     "metadata": {},
     "output_type": "execute_result"
    }
   ],
   "source": [
    "np.sin(angles)"
   ]
  },
  {
   "cell_type": "code",
   "execution_count": 4,
   "id": "83e071a9",
   "metadata": {},
   "outputs": [
    {
     "data": {
      "text/plain": [
       "array([ 1.        ,  0.15425145,  0.52532199, -0.95241298, -0.44807362,\n",
       "       -0.59846007])"
      ]
     },
     "execution_count": 4,
     "metadata": {},
     "output_type": "execute_result"
    }
   ],
   "source": [
    "np.cos(angles)"
   ]
  },
  {
   "cell_type": "code",
   "execution_count": 5,
   "id": "d0d2d5dc",
   "metadata": {},
   "outputs": [
    {
     "data": {
      "text/plain": [
       "array([ 0.        , -6.4053312 ,  1.61977519,  0.32004039, -1.99520041,\n",
       "        1.33869021])"
      ]
     },
     "execution_count": 5,
     "metadata": {},
     "output_type": "execute_result"
    }
   ],
   "source": [
    "np.tan(angles)"
   ]
  },
  {
   "cell_type": "code",
   "execution_count": 6,
   "id": "2cdb473e",
   "metadata": {},
   "outputs": [
    {
     "data": {
      "text/plain": [
       "array([0.00000000e+00, 5.34323729e+12, 1.74671355e+19, 5.71003695e+25,\n",
       "       6.10201647e+38, 7.44692100e+77])"
      ]
     },
     "execution_count": 6,
     "metadata": {},
     "output_type": "execute_result"
    }
   ],
   "source": [
    "np.sinh(angles)"
   ]
  },
  {
   "cell_type": "code",
   "execution_count": 7,
   "id": "ec8040a6",
   "metadata": {},
   "outputs": [
    {
     "data": {
      "text/plain": [
       "array([0.        , 0.52359878, 0.78539816, 1.04719755, 1.57079633,\n",
       "       3.14159265])"
      ]
     },
     "execution_count": 7,
     "metadata": {},
     "output_type": "execute_result"
    }
   ],
   "source": [
    "np.deg2rad(angles)"
   ]
  },
  {
   "cell_type": "code",
   "execution_count": 10,
   "id": "25852ba3",
   "metadata": {},
   "outputs": [
    {
     "data": {
      "text/plain": [
       "5.0"
      ]
     },
     "execution_count": 10,
     "metadata": {},
     "output_type": "execute_result"
    }
   ],
   "source": [
    "b = 3\n",
    "h=4\n",
    "np.hypot(b,h)"
   ]
  },
  {
   "cell_type": "code",
   "execution_count": 11,
   "id": "9e8cdee6",
   "metadata": {},
   "outputs": [
    {
     "name": "stdout",
     "output_type": "stream",
     "text": [
      "Minimum and maximum weight of the students: \n",
      "45.0 73.25\n",
      "Range of the weight of the students: \n",
      "28.25\n",
      "Weight below which 70 % student fall: \n",
      "55.317\n",
      "Mean weight of the students: \n",
      "54.3225\n",
      "Median weight of the students: \n",
      "51.6\n",
      "Standard deviation of weight of the students: \n",
      "8.052773978574091\n",
      "Variance of weight of the students: \n",
      "64.84716875\n",
      "Average weight of the students: \n",
      "54.3225\n"
     ]
    }
   ],
   "source": [
    "# construct a weight array \n",
    "weight = np.array([50.7, 52.5, 50, 58, 55.63, 73.25, 49.5, 45]) \n",
    "\n",
    "# minimum and maximum \n",
    "print('Minimum and maximum weight of the students: ') \n",
    "print(np.amin(weight), np.amax(weight)) \n",
    "\n",
    "# range of weight i.e. max weight-min weight \n",
    "print('Range of the weight of the students: ') \n",
    "print(np.ptp(weight)) \n",
    "\n",
    "# percentile \n",
    "print('Weight below which 70 % student fall: ') \n",
    "print(np.percentile(weight, 70)) \n",
    "\n",
    "# mean \n",
    "print('Mean weight of the students: ') \n",
    "print(np.mean(weight)) \n",
    "\n",
    "# median \n",
    "print('Median weight of the students: ') \n",
    "print(np.median(weight)) \n",
    "\n",
    "# standard deviation \n",
    "print('Standard deviation of weight of the students: ') \n",
    "print(np.std(weight)) \n",
    "\n",
    "# variance \n",
    "print('Variance of weight of the students: ') \n",
    "print(np.var(weight)) \n",
    "\n",
    "# average \n",
    "print('Average weight of the students: ') \n",
    "print(np.average(weight)) \n"
   ]
  },
  {
   "cell_type": "code",
   "execution_count": null,
   "id": "053cf0eb",
   "metadata": {},
   "outputs": [],
   "source": []
  }
 ],
 "metadata": {
  "kernelspec": {
   "display_name": "Python 3 (ipykernel)",
   "language": "python",
   "name": "python3"
  },
  "language_info": {
   "codemirror_mode": {
    "name": "ipython",
    "version": 3
   },
   "file_extension": ".py",
   "mimetype": "text/x-python",
   "name": "python",
   "nbconvert_exporter": "python",
   "pygments_lexer": "ipython3",
   "version": "3.11.5"
  }
 },
 "nbformat": 4,
 "nbformat_minor": 5
}
