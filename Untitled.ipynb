{
 "cells": [
  {
   "cell_type": "code",
   "execution_count": 2,
   "id": "dc9e8374",
   "metadata": {},
   "outputs": [],
   "source": [
    "import numpy as np"
   ]
  },
  {
   "cell_type": "raw",
   "id": "ffce0c99",
   "metadata": {},
   "source": [
    "#A\n",
    "0 0 1 1 0 0\n",
    "0 1 0 0 1 0 \n",
    "1 1 1 1 1 1\n",
    "1 0 0 0 0 1 \n",
    "1 0 0 0 0 1\n",
    "\n",
    "#B\n",
    "0 1 1 1 1 0\n",
    "0 1 0 0 1 0 \n",
    "0 1 1 1 1 0\n",
    "0 1 0 0 1 0\n",
    "0 1 1 1 1 0\n",
    "\n",
    "#C\n",
    "0 1 1 1 1 0\n",
    "0 1 0 0 0 0\n",
    "0 1 0 0 0 0\n",
    "0 1 0 0 0 0\n",
    "0 1 1 1 1 0\n",
    "\n",
    "#Labels for each Letter\n",
    "A=[1, 0, 0]\n",
    "B=[0, 1, 0]\n",
    "C=[0, 0, 1]"
   ]
  },
  {
   "cell_type": "markdown",
   "id": "28881df3",
   "metadata": {},
   "source": [
    "# Step 1 : Creating the data set using numpy array of 0s and 1s. \n",
    "As the image is a collection of pixel values in matrix, we will create those matrix of pixel for A, B, C "
   ]
  },
  {
   "cell_type": "code",
   "execution_count": 13,
   "id": "9bd8e146",
   "metadata": {},
   "outputs": [],
   "source": [
    "A = np.array([[0, 0, 1, 1, 0, 0],\n",
    "              [0, 1, 0, 0, 1, 0],\n",
    "              [1, 1, 1, 1, 1 ,1],\n",
    "              [1, 0, 0, 0, 0, 1 ],\n",
    "              [1, 0, 0, 0, 0, 1]])\n",
    "\n",
    "B = np.array([[0, 1, 1, 1, 1, 0],\n",
    "              [0, 1, 0, 0, 1, 0],\n",
    "              [0, 1, 1, 1, 1, 0],\n",
    "              [0, 1, 0, 0, 1, 0],\n",
    "              [0, 1, 1, 1, 1, 0]])\n",
    "C = np.array([[0, 1, 1, 1, 1, 0],\n",
    "              [0, 1, 0, 0, 0, 0],\n",
    "              [0, 1, 0, 0, 0, 0],\n",
    "              [0, 1, 0, 0, 0, 0],\n",
    "              [0, 1, 1, 1, 1, 0]])\n",
    "\n",
    "Y = np.array([[1, 0, 0],\n",
    "              [0, 1, 0],\n",
    "              [0, 0, 1]])"
   ]
  },
  {
   "cell_type": "code",
   "execution_count": 14,
   "id": "12504e6a",
   "metadata": {},
   "outputs": [
    {
     "name": "stdout",
     "output_type": "stream",
     "text": [
      "A can be written as: \n",
      " [[0 0 1 1 0 0]\n",
      " [0 1 0 0 1 0]\n",
      " [1 1 1 1 1 1]\n",
      " [1 0 0 0 0 1]\n",
      " [1 0 0 0 0 1]]\n"
     ]
    }
   ],
   "source": [
    "print(\"A can be written as: \\n\",A)"
   ]
  },
  {
   "cell_type": "code",
   "execution_count": 15,
   "id": "832eb8d6",
   "metadata": {},
   "outputs": [
    {
     "name": "stdout",
     "output_type": "stream",
     "text": [
      "B can be written as: \n",
      " [[0 1 1 1 1 0]\n",
      " [0 1 0 0 1 0]\n",
      " [0 1 1 1 1 0]\n",
      " [0 1 0 0 1 0]\n",
      " [0 1 1 1 1 0]]\n"
     ]
    }
   ],
   "source": [
    "print(\"B can be written as: \\n\",B)"
   ]
  },
  {
   "cell_type": "code",
   "execution_count": 16,
   "id": "b372fc83",
   "metadata": {},
   "outputs": [
    {
     "name": "stdout",
     "output_type": "stream",
     "text": [
      "C can be written as: \n",
      " [[0 1 1 1 1 0]\n",
      " [0 1 0 0 0 0]\n",
      " [0 1 0 0 0 0]\n",
      " [0 1 0 0 0 0]\n",
      " [0 1 1 1 1 0]]\n"
     ]
    }
   ],
   "source": [
    "print(\"C can be written as: \\n\",C)"
   ]
  },
  {
   "cell_type": "code",
   "execution_count": 17,
   "id": "e02570c7",
   "metadata": {},
   "outputs": [
    {
     "name": "stdout",
     "output_type": "stream",
     "text": [
      "Label: [[1 0 0]\n",
      " [0 1 0]\n",
      " [0 0 1]]\n"
     ]
    }
   ],
   "source": [
    "print(\"Label:\",Y)"
   ]
  },
  {
   "cell_type": "markdown",
   "id": "bb4e4dfa",
   "metadata": {},
   "source": [
    "# Step 2 : Visualization of data set"
   ]
  },
  {
   "cell_type": "code",
   "execution_count": 22,
   "id": "1db81db0",
   "metadata": {},
   "outputs": [
    {
     "data": {
      "text/plain": [
       "<matplotlib.image.AxesImage at 0x1ce6bd55e90>"
      ]
     },
     "execution_count": 22,
     "metadata": {},
     "output_type": "execute_result"
    },
    {
     "data": {
      "image/png": "[encoded data removed]",
      "text/plain": [
       "<Figure size 640x480 with 1 Axes>"
      ]
     },
     "metadata": {},
     "output_type": "display_data"
    }
   ],
   "source": [
    "import matplotlib.pyplot as plt\n",
    "plt.imshow(A)"
   ]
  },
  {
   "cell_type": "code",
   "execution_count": 19,
   "id": "8ba41222",
   "metadata": {},
   "outputs": [
    {
     "data": {
      "text/plain": [
       "<matplotlib.image.AxesImage at 0x1ce6ab0a710>"
      ]
     },
     "execution_count": 19,
     "metadata": {},
     "output_type": "execute_result"
    },
    {
     "data": {
      "image/png": "[encoded data removed]",
      "text/plain": [
       "<Figure size 640x480 with 1 Axes>"
      ]
     },
     "metadata": {},
     "output_type": "display_data"
    }
   ],
   "source": [
    "plt.imshow(B)"
   ]
  },
  {
   "cell_type": "code",
   "execution_count": 23,
   "id": "dd0cacc1",
   "metadata": {},
   "outputs": [
    {
     "data": {
      "text/plain": [
       "<matplotlib.image.AxesImage at 0x1ce6abbd150>"
      ]
     },
     "execution_count": 23,
     "metadata": {},
     "output_type": "execute_result"
    },
    {
     "data": {
      "image/png": "[encoded data removed]",
      "text/plain": [
       "<Figure size 640x480 with 1 Axes>"
      ]
     },
     "metadata": {},
     "output_type": "display_data"
    }
   ],
   "source": [
    "plt.imshow(C)\n"
   ]
  },
  {
   "cell_type": "code",
   "execution_count": 24,
   "id": "859d26d3",
   "metadata": {},
   "outputs": [
    {
     "data": {
      "text/plain": [
       "<matplotlib.image.AxesImage at 0x1ce6ac4cf50>"
      ]
     },
     "execution_count": 24,
     "metadata": {},
     "output_type": "execute_result"
    },
    {
     "data": {
      "image/png": "[encoded data removed]",
      "text/plain": [
       "<Figure size 640x480 with 1 Axes>"
      ]
     },
     "metadata": {},
     "output_type": "display_data"
    }
   ],
   "source": [
    "plt.imshow(Y)"
   ]
  },
  {
   "cell_type": "markdown",
   "id": "cc010c6d",
   "metadata": {},
   "source": [
    "# Step 3: Defining the architecture or structure of the deep neural network. \n",
    "\n",
    "1st layer: Input layer(1, 30)\n",
    "2nd layer: Hidden layer (1, 5)\n",
    "3rd layer: Output layer(3, 3)"
   ]
  },
  {
   "cell_type": "code",
   "execution_count": 25,
   "id": "51cde918",
   "metadata": {},
   "outputs": [
    {
     "ename": "ModuleNotFoundError",
     "evalue": "No module named 'tensorflow'",
     "output_type": "error",
     "traceback": [
      "\u001b[1;31m---------------------------------------------------------------------------\u001b[0m",
      "\u001b[1;31mModuleNotFoundError\u001b[0m                       Traceback (most recent call last)",
      "Cell \u001b[1;32mIn[25], line 1\u001b[0m\n\u001b[1;32m----> 1\u001b[0m \u001b[38;5;28;01mimport\u001b[39;00m \u001b[38;5;21;01mtensorflow\u001b[39;00m \u001b[38;5;28;01mas\u001b[39;00m \u001b[38;5;21;01mtf\u001b[39;00m\n\u001b[0;32m      2\u001b[0m \u001b[38;5;28;01mfrom\u001b[39;00m \u001b[38;5;21;01mtensorflow\u001b[39;00m \u001b[38;5;28;01mimport\u001b[39;00m keras\n",
      "\u001b[1;31mModuleNotFoundError\u001b[0m: No module named 'tensorflow'"
     ]
    }
   ],
   "source": [
    "import tensorflow as tf\n",
    "from tensorflow import keras"
   ]
  },
  {
   "cell_type": "code",
   "execution_count": null,
   "id": "518b3e23",
   "metadata": {},
   "outputs": [],
   "source": []
  }
 ],
 "metadata": {
  "kernelspec": {
   "display_name": "Python 3 (ipykernel)",
   "language": "python",
   "name": "python3"
  },
  "language_info": {
   "codemirror_mode": {
    "name": "ipython",
    "version": 3
   },
   "file_extension": ".py",
   "mimetype": "text/x-python",
   "name": "python",
   "nbconvert_exporter": "python",
   "pygments_lexer": "ipython3",
   "version": "3.11.5"
  }
 },
 "nbformat": 4,
 "nbformat_minor": 5
}
